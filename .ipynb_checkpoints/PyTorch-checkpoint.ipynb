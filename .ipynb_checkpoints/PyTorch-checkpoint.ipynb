{
 "cells": [
  {
   "cell_type": "code",
   "execution_count": 2,
   "metadata": {},
   "outputs": [],
   "source": [
    "import torch\n",
    "import torch.nn as nn\n",
    "import torchvision as vision\n",
    "import torch.nn.functional as F\n",
    "from torchvision import transforms\n",
    "from torchvision import datasets\n",
    "import PIL\n",
    "import numpy as np\n",
    "from matplotlib import pyplot as plt\n",
    "from IPython.core import debugger"
   ]
  },
  {
   "cell_type": "code",
   "execution_count": 3,
   "metadata": {},
   "outputs": [],
   "source": [
    "# Residual block\n",
    "class ResidualBlock(nn.Module):\n",
    "    def __init__(self, filters, kernel_size=3, stride=1, padding=0):\n",
    "        super(ResidualBlock, self).__init__()\n",
    "        self.ksize = kernel_size\n",
    "        self.conv1 = nn.Conv2d(filters, filters, kernel_size, stride, padding)\n",
    "        self.bn1 = nn.BatchNorm2d(filters)\n",
    "        self.conv2 = nn.Conv2d(filters, filters, kernel_size, stride, padding)\n",
    "        self.bn2 = nn.BatchNorm2d(filters)\n",
    "        \n",
    "    def forward(self, x):\n",
    "        residual = x\n",
    "        out = self.conv1(x)\n",
    "        out = self.bn1(out)\n",
    "        out = F.relu(out)\n",
    "        out = self.conv2(out)\n",
    "        out = self.bn2(out)\n",
    "        out += F.pad(residual, (-2, -2, -2, -2))\n",
    "        return out\n",
    "                                                 \n"
   ]
  },
  {
   "cell_type": "code",
   "execution_count": 4,
   "metadata": {},
   "outputs": [],
   "source": [
    "class TransformNet(nn.Module):\n",
    "    \n",
    "    def __init__(self):\n",
    "        super(TransformNet, self).__init__()\n",
    "        \n",
    "        self.reflectPadding2D = nn.ReflectionPad2d(40)\n",
    "        self.conv1 = nn.Conv2d(3, 32, 9, padding=4)\n",
    "        self.bn1 = nn.BatchNorm2d(32)\n",
    "        self.conv2 = nn.Conv2d(32, 64, 3, padding=1, stride=2)\n",
    "        self.bn2 = nn.BatchNorm2d(64)\n",
    "        self.conv3 = nn.Conv2d(64, 128, 3, padding=1, stride=2)\n",
    "        self.bn3 = nn.BatchNorm2d(128)\n",
    "        self.res1 = ResidualBlock(128)\n",
    "        self.res2 = ResidualBlock(128)\n",
    "        self.res3 = ResidualBlock(128)\n",
    "        self.res4 = ResidualBlock(128)\n",
    "        self.res5 = ResidualBlock(128)\n",
    "        self.deconv1 = nn.ConvTranspose2d(128, 64, 3, 2, padding=1)\n",
    "        self.bn_deconv1 = nn.BatchNorm2d(64)\n",
    "        self.deconv2 = nn.ConvTranspose2d(64, 32, 3, 2, padding=1)\n",
    "        self.bn_deconv2 = nn.BatchNorm2d(32)\n",
    "        self.outputConv = nn.Conv2d(32, 3, 9, padding=4)\n",
    "        \n",
    "        \n",
    "    def forward(self, x):\n",
    "        \n",
    "        x = self.reflectPadding2D(x)\n",
    "        x = F.relu(self.bn1(self.conv1(x)))\n",
    "        x = F.relu(self.bn2(self.conv2(x)))\n",
    "        x = F.relu(self.bn3(self.conv3(x)))\n",
    "        x = self.res1(x)\n",
    "        x = self.res2(x)\n",
    "        x = self.res3(x)\n",
    "        x = self.res4(x)\n",
    "        x = self.res5(x)\n",
    "        x = F.relu(self.bn_deconv1(self.deconv1(x)))\n",
    "        x = F.relu(self.bn_deconv2(self.deconv2(x)))\n",
    "        x = (torch.tanh(self.outputConv(x))+1)*127.5\n",
    "        \n",
    "        return x\n",
    "        "
   ]
  },
  {
   "cell_type": "code",
   "execution_count": 5,
   "metadata": {},
   "outputs": [],
   "source": [
    "def normalizeTensor(x):\n",
    "    assert type(x) == torch.Tensor\n",
    "    minim = torch.min(x)\n",
    "    maxim = torch.max(x)\n",
    "    \n",
    "    return (x - minim)/(maxim - minim)"
   ]
  },
  {
   "cell_type": "code",
   "execution_count": 6,
   "metadata": {},
   "outputs": [],
   "source": [
    "vgg = vision.models.vgg16(pretrained=True).features\n",
    "\n",
    "for param in vgg.parameters():\n",
    "    \n",
    "    param.requires_grad = False"
   ]
  },
  {
   "cell_type": "code",
   "execution_count": 7,
   "metadata": {},
   "outputs": [],
   "source": [
    "def normalizeTensor(x):\n",
    "    assert type(x) == torch.Tensor\n",
    "    minim = torch.min(x)\n",
    "    maxim = torch.max(x)\n",
    "    \n",
    "    return (x - minim)/(maxim - minim)"
   ]
  },
  {
   "cell_type": "code",
   "execution_count": 8,
   "metadata": {},
   "outputs": [],
   "source": [
    "vgg = vision.models.vgg16(pretrained=True).features"
   ]
  },
  {
   "cell_type": "code",
   "execution_count": 33,
   "metadata": {},
   "outputs": [],
   "source": [
    "def VGGRead(path):\n",
    "    assert type(path) == str\n",
    "    testimage = PIL.Image.open(path)\n",
    "    \n",
    "    normalize = transforms.Normalize(mean=[0.485, 0.456, 0.406],\n",
    "                                     std=[0.229, 0.224, 0.225])\n",
    "\n",
    "    comptransf = transforms.Compose([\n",
    "            transforms.Resize((256,256)),\n",
    "            transforms.ToTensor(),\n",
    "            normalize,\n",
    "        ])\n",
    "    \n",
    "    testimage = comptransf(testimage)\n",
    "    \n",
    "    return testimage.unsqueeze(0)\n"
   ]
  },
  {
   "cell_type": "code",
   "execution_count": 37,
   "metadata": {},
   "outputs": [],
   "source": [
    "def gram_matrix(x):\n",
    "    \"\"\"\n",
    "    returns N x C x C gram matrices of N x C x W x H batches\n",
    "    \"\"\"\n",
    "    assert len(x.shape) == 4 #we're working on batches N x C x W x H\n",
    "    N, C, W, H = x.shape\n",
    "    \n",
    "    batch_of_grams = torch.empty((N, C, C), requires_grad=True)\n",
    "    \n",
    "    for idx, batch_item in enumerate(x):\n",
    "        \n",
    "        assert batch_item.requires_grad\n",
    "        \n",
    "        batch_item = batch_item.reshape(C, W*H)\n",
    "        \n",
    "        gram_matrix = torch.matmul(batch_item, batch_item.transpose(0, 1))\n",
    "        \n",
    "        batch_of_grams[idx] = gram_matrix\n",
    "        \n",
    "    batch_of_grams /= C*W*H\n",
    "    return batch_of_grams"
   ]
  },
  {
   "cell_type": "code",
   "execution_count": 38,
   "metadata": {},
   "outputs": [],
   "source": [
    "def get_style_grams(style_image):\n",
    "    \"\"\"style_image(string) -> path to Style Image\"\"\"\n",
    "    \n",
    "    style_image = VGGRead(style_image)\n",
    "    \n",
    "    outputs = []\n",
    "    hooks = []\n",
    "    def hook(module, input, output):\n",
    "        outputs.append(output)\n",
    "\n",
    "    hooks += [vgg[3].register_forward_hook(hook)]\n",
    "    hooks += [vgg[8].register_forward_hook(hook)]\n",
    "    hooks += [vgg[15].register_forward_hook(hook)]\n",
    "    hooks += [vgg[22].register_forward_hook(hook)]\n",
    "    \n",
    "    vgg(style_image)\n",
    "    \n",
    "    [i.remove() for i in hooks]\n",
    "    \n",
    "    relu1_2, relu2_2, relu3_3, relu4_3 = outputs\n",
    "    \n",
    "    gram_matrices = {\n",
    "        'gram1_2' : 0,\n",
    "        'gram2_2' : 0,\n",
    "        'gram3_3' : 0,\n",
    "        'gram4_3' : 0\n",
    "    }\n",
    "        \n",
    "    gram_matrices['gram1_2'] = gram_matrix(relu1_2)[0]\n",
    "    gram_matrices['gram2_2'] = gram_matrix(relu2_2)[0]\n",
    "    gram_matrices['gram3_3'] = gram_matrix(relu3_3)[0]\n",
    "    gram_matrices['gram4_3'] = gram_matrix(relu4_3)[0]\n",
    "    \n",
    "    \n",
    "    return gram_matrices"
   ]
  },
  {
   "cell_type": "code",
   "execution_count": 58,
   "metadata": {},
   "outputs": [],
   "source": [
    "def loss_function(input_of_net, output_of_net, style_gram_matrices):\n",
    "    \"\"\"\n",
    "        input_of_net: Nx3x256x256 batch of training images\n",
    "        output_of_net: Nx3x256x256 batch of output images\n",
    "        style_gram_matrices: dict of style gram matrices\n",
    "    \"\"\"\n",
    "    #First, we need to feed the batches of output to vgg to calculate the style losses\n",
    "    outputs = []\n",
    "    hooks = []\n",
    "    def hook(module, input, output):\n",
    "        outputs.append(output)\n",
    "\n",
    "    hooks += [vgg[3].register_forward_hook(hook)]\n",
    "    hooks += [vgg[8].register_forward_hook(hook)]\n",
    "    hooks += [vgg[15].register_forward_hook(hook)]\n",
    "    hooks += [vgg[22].register_forward_hook(hook)]\n",
    "    \n",
    "    vgg(output_of_net)\n",
    "    \n",
    "    [i.remove() for i in hooks]\n",
    "\n",
    "    #now outputs is a list of 4 x N x C x W x H\n",
    "    \n",
    "    relu1_2, relu2_2, relu3_3, relu4_3 = outputs\n",
    "    \n",
    "    gram1_2 = gram_matrix(relu1_2)\n",
    "    gram2_2 = gram_matrix(relu2_2)\n",
    "    gram3_3 = gram_matrix(relu3_3)\n",
    "    gram4_3 = gram_matrix(relu4_3)\n",
    "    \n",
    "    style_loss1 = 0.\n",
    "    style_loss2 = 0.\n",
    "    style_loss3 = 0.\n",
    "    style_loss4 = 0.\n",
    "    \n",
    "    for i in range(gram1_2.shape[0]):\n",
    "        \n",
    "        style_loss1 += torch.norm(gram1_2[i] - style_gram_matrices['gram1_2'])**2\n",
    "        style_loss2 += torch.norm(gram2_2[i] - style_gram_matrices['gram2_2'])**2\n",
    "        style_loss3 += torch.norm(gram3_3[i] - style_gram_matrices['gram3_3'])**2\n",
    "        style_loss4 += torch.norm(gram4_3[i] - style_gram_matrices['gram4_3'])**2\n",
    "    \n",
    "    outputs = []\n",
    "    hooks = []\n",
    "    def hook(module, input, output):\n",
    "        outputs.append(output)\n",
    "        \n",
    "    hooks += [vgg[15].register_forward_hook(hook)]\n",
    "    \n",
    "    vgg(input_of_net)\n",
    "    \n",
    "    [i.remove() for i in hooks]\n",
    "\n",
    "    #now outputs is a list of 4 x N x C x W x H\n",
    "    \n",
    "    input_relu3_3 = outputs[0]\n",
    "    N, C, W, H = input_relu3_3.shape\n",
    "    feat_loss = 0.\n",
    "    for i in range(N):\n",
    "        \n",
    "        feat_loss+=(torch.norm(relu3_3[i] - input_relu3_3[i])**2)/C*W*H\n",
    "\n",
    "    \n",
    "    return feat_loss+style_loss1+style_loss2+style_loss3+style_loss4\n",
    "    "
   ]
  },
  {
   "cell_type": "code",
   "execution_count": 60,
   "metadata": {},
   "outputs": [],
   "source": [
    "style_grams = get_style_grams('jonesy.jpg')\n",
    "testimage = VGGRead('Cat03.jpg')"
   ]
  },
  {
   "cell_type": "code",
   "execution_count": 62,
   "metadata": {},
   "outputs": [],
   "source": [
    "prova = loss_function(testimage, testimage, style_grams)"
   ]
  },
  {
   "cell_type": "code",
   "execution_count": 67,
   "metadata": {},
   "outputs": [
    {
     "data": {
      "text/plain": [
       "tensor(5.8521, grad_fn=<ThAddBackward>)"
      ]
     },
     "execution_count": 67,
     "metadata": {},
     "output_type": "execute_result"
    }
   ],
   "source": [
    "prova"
   ]
  },
  {
   "cell_type": "code",
   "execution_count": 34,
   "metadata": {},
   "outputs": [],
   "source": [
    "net = TransformNet()\n",
    "out = VGGRead(path='jonesy.jpg')\n"
   ]
  },
  {
   "cell_type": "code",
   "execution_count": 51,
   "metadata": {},
   "outputs": [],
   "source": [
    "a = np.random.randn(5,5)"
   ]
  },
  {
   "cell_type": "code",
   "execution_count": 52,
   "metadata": {},
   "outputs": [],
   "source": [
    "b = np.random.randn(5,5)"
   ]
  },
  {
   "cell_type": "code",
   "execution_count": 53,
   "metadata": {},
   "outputs": [
    {
     "data": {
      "text/plain": [
       "4.055238570785675"
      ]
     },
     "execution_count": 53,
     "metadata": {},
     "output_type": "execute_result"
    }
   ],
   "source": [
    "np.linalg.norm(a, ord='fro')"
   ]
  },
  {
   "cell_type": "code",
   "execution_count": 54,
   "metadata": {},
   "outputs": [],
   "source": [
    "at = torch.Tensor(a)"
   ]
  },
  {
   "cell_type": "code",
   "execution_count": 57,
   "metadata": {},
   "outputs": [
    {
     "data": {
      "text/plain": [
       "tensor(4.0552)"
      ]
     },
     "execution_count": 57,
     "metadata": {},
     "output_type": "execute_result"
    }
   ],
   "source": [
    "torch.norm(at)"
   ]
  },
  {
   "cell_type": "code",
   "execution_count": 55,
   "metadata": {},
   "outputs": [
    {
     "data": {
      "text/plain": [
       "tensor([[-0.6187,  1.1657, -0.4393,  1.0899, -0.4146],\n",
       "        [-1.1707, -0.6742, -0.0120, -0.5078,  1.5651],\n",
       "        [ 0.5250,  0.1933, -0.7228,  0.9342, -0.2511],\n",
       "        [-0.4036,  0.1058, -0.5567,  0.8952, -0.7493],\n",
       "        [-1.2763, -0.4885, -0.7328,  0.9377,  1.3099]])"
      ]
     },
     "execution_count": 55,
     "metadata": {},
     "output_type": "execute_result"
    }
   ],
   "source": []
  },
  {
   "cell_type": "code",
   "execution_count": null,
   "metadata": {},
   "outputs": [],
   "source": []
  }
 ],
 "metadata": {
  "kernelspec": {
   "display_name": "Python 3",
   "language": "python",
   "name": "python3"
  },
  "language_info": {
   "codemirror_mode": {
    "name": "ipython",
    "version": 3
   },
   "file_extension": ".py",
   "mimetype": "text/x-python",
   "name": "python",
   "nbconvert_exporter": "python",
   "pygments_lexer": "ipython3",
   "version": "3.6.6"
  }
 },
 "nbformat": 4,
 "nbformat_minor": 2
}
