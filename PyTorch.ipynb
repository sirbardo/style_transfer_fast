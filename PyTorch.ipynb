{
 "cells": [
  {
   "cell_type": "code",
   "execution_count": 1,
   "metadata": {},
   "outputs": [],
   "source": [
    "import torch\n",
    "import torch.nn as nn\n",
    "import torchvision as vision\n",
    "import torch.nn.functional as F\n",
    "from torchvision import transforms\n",
    "from torchvision import datasets\n",
    "import PIL\n",
    "import numpy as np\n",
    "from matplotlib import pyplot as plt\n",
    "from IPython.core import debugger"
   ]
  },
  {
   "cell_type": "code",
   "execution_count": 20,
   "metadata": {},
   "outputs": [],
   "source": [
    "# Residual block\n",
    "class ResidualBlock(nn.Module):\n",
    "    def __init__(self, filters, kernel_size=3, stride=1, padding=0):\n",
    "        super(ResidualBlock, self).__init__()\n",
    "        self.ksize = kernel_size\n",
    "        self.conv1 = nn.Conv2d(filters, filters, kernel_size, stride, padding)\n",
    "        self.bn1 = nn.BatchNorm2d(filters)\n",
    "        self.conv2 = nn.Conv2d(filters, filters, kernel_size, stride, padding)\n",
    "        self.bn2 = nn.BatchNorm2d(filters)\n",
    "        \n",
    "    def forward(self, x):\n",
    "        residual = x\n",
    "        out = self.conv1(x)\n",
    "        out = self.bn1(out)\n",
    "        out = F.relu(out)\n",
    "        out = self.conv2(out)\n",
    "        out = self.bn2(out)\n",
    "        out += F.pad(residual, (-2, -2, -2, -2))\n",
    "        return out\n",
    "                                                 \n",
    "class UpsampleConvLayer(nn.Module):\n",
    "    \"\"\"UpsampleConvLayer\n",
    "    Upsamples the input and then does a convolution. This method gives better results\n",
    "    compared to ConvTranspose2d.\n",
    "    ref: http://distill.pub/2016/deconv-checkerboard/\n",
    "    \"\"\"\n",
    "\n",
    "    def __init__(self, in_channels, out_channels, kernel_size, stride, upsample=None):\n",
    "        super(UpsampleConvLayer, self).__init__()\n",
    "        self.upsample = upsample\n",
    "        reflection_padding = kernel_size // 2\n",
    "        self.reflection_pad = nn.ReflectionPad2d(reflection_padding)\n",
    "        self.conv2d = nn.Conv2d(in_channels, out_channels, kernel_size, stride)\n",
    "\n",
    "    def forward(self, x):\n",
    "        x_in = x\n",
    "        if self.upsample:\n",
    "            x_in = nn.functional.interpolate(x_in, mode='nearest', scale_factor=self.upsample)\n",
    "        out = self.reflection_pad(x_in)\n",
    "        out = self.conv2d(out)\n",
    "        return out\n"
   ]
  },
  {
   "cell_type": "code",
   "execution_count": 21,
   "metadata": {},
   "outputs": [],
   "source": [
    "class TransformNet(nn.Module):\n",
    "    \n",
    "    def __init__(self):\n",
    "        super(TransformNet, self).__init__()\n",
    "        \n",
    "        self.reflectPadding2D = nn.ReflectionPad2d(40)\n",
    "        self.conv1 = nn.Conv2d(3, 32, 9, padding=4)\n",
    "        self.bn1 = nn.BatchNorm2d(32)\n",
    "        self.conv2 = nn.Conv2d(32, 64, 3, padding=1, stride=2)\n",
    "        self.bn2 = nn.BatchNorm2d(64)\n",
    "        self.conv3 = nn.Conv2d(64, 128, 3, padding=1, stride=2)\n",
    "        self.bn3 = nn.BatchNorm2d(128)\n",
    "        self.res1 = ResidualBlock(128)\n",
    "        self.res2 = ResidualBlock(128)\n",
    "        self.res3 = ResidualBlock(128)\n",
    "        self.res4 = ResidualBlock(128)\n",
    "        self.res5 = ResidualBlock(128)\n",
    "        self.deconv1 = UpsampleConvLayer(128, 64, kernel_size=3, stride=1, upsample=2)\n",
    "        self.bn_deconv1 = nn.BatchNorm2d(64)\n",
    "        self.deconv2 = UpsampleConvLayer(64, 32, kernel_size=3, stride=1, upsample=2)\n",
    "        self.bn_deconv2 = nn.BatchNorm2d(32)\n",
    "        self.outputConv = nn.Conv2d(32, 3, 9, padding=4)\n",
    "        \n",
    "        \n",
    "    def forward(self, x):\n",
    "        \n",
    "        x = self.reflectPadding2D(x)\n",
    "        x = F.relu(self.bn1(self.conv1(x)))\n",
    "        x = F.relu(self.bn2(self.conv2(x)))\n",
    "        x = F.relu(self.bn3(self.conv3(x)))\n",
    "        x = self.res1(x)\n",
    "        x = self.res2(x)\n",
    "        x = self.res3(x)\n",
    "        x = self.res4(x)\n",
    "        x = self.res5(x)\n",
    "        x = F.relu(self.bn_deconv1(self.deconv1(x)))\n",
    "        x = F.relu(self.bn_deconv2(self.deconv2(x)))\n",
    "        x = (torch.tanh(self.outputConv(x))+1)*127.5\n",
    "        \n",
    "        return x\n",
    "        "
   ]
  },
  {
   "cell_type": "code",
   "execution_count": 22,
   "metadata": {},
   "outputs": [],
   "source": [
    "def normalizeTensor(x):\n",
    "    assert type(x) == torch.Tensor\n",
    "    minim = torch.min(x)\n",
    "    maxim = torch.max(x)\n",
    "    \n",
    "    return (x - minim)/(maxim - minim)"
   ]
  },
  {
   "cell_type": "code",
   "execution_count": 23,
   "metadata": {},
   "outputs": [],
   "source": [
    "vgg = vision.models.vgg16(pretrained=True).features\n",
    "\n",
    "for param in vgg.parameters():\n",
    "    \n",
    "    param.requires_grad = False"
   ]
  },
  {
   "cell_type": "code",
   "execution_count": 24,
   "metadata": {},
   "outputs": [],
   "source": [
    "def normalizeTensor(x):\n",
    "    assert type(x) == torch.Tensor\n",
    "    minim = torch.min(x)\n",
    "    maxim = torch.max(x)\n",
    "    \n",
    "    return (x - minim)/(maxim - minim)"
   ]
  },
  {
   "cell_type": "code",
   "execution_count": 25,
   "metadata": {},
   "outputs": [],
   "source": [
    "vgg = vision.models.vgg16(pretrained=True).features"
   ]
  },
  {
   "cell_type": "code",
   "execution_count": 26,
   "metadata": {},
   "outputs": [],
   "source": [
    "def VGGRead(path):\n",
    "    assert type(path) == str\n",
    "    testimage = PIL.Image.open(path)\n",
    "    \n",
    "    normalize = transforms.Normalize(mean=[0.485, 0.456, 0.406],\n",
    "                                     std=[0.229, 0.224, 0.225])\n",
    "\n",
    "    comptransf = transforms.Compose([\n",
    "            transforms.Resize((256,256)),\n",
    "            transforms.ToTensor(),\n",
    "            normalize,\n",
    "        ])\n",
    "    \n",
    "    testimage = comptransf(testimage)\n",
    "    \n",
    "    return testimage.unsqueeze(0)\n"
   ]
  },
  {
   "cell_type": "code",
   "execution_count": 31,
   "metadata": {},
   "outputs": [],
   "source": [
    "def gram_matrix(x):\n",
    "    \"\"\"\n",
    "    returns N x C x C gram matrices of N x C x W x H batches\n",
    "    \"\"\"\n",
    "    assert len(x.shape) == 4 #we're working on batches N x C x W x H\n",
    "    N, C, W, H = x.shape\n",
    "    \n",
    "    batch_of_grams = torch.empty((N, C, C))\n",
    "    \n",
    "    for idx, batch_item in enumerate(x):\n",
    "        \n",
    "        assert batch_item.requires_grad\n",
    "        \n",
    "        batch_item = batch_item.reshape(C, W*H)\n",
    "        \n",
    "        gram_matrix = torch.matmul(batch_item, batch_item.transpose(0, 1))\n",
    "        \n",
    "        batch_of_grams[idx] = gram_matrix\n",
    "        \n",
    "    batch_of_grams /= C*W*H\n",
    "    return batch_of_grams"
   ]
  },
  {
   "cell_type": "code",
   "execution_count": 32,
   "metadata": {},
   "outputs": [],
   "source": [
    "def get_style_grams(style_image):\n",
    "    \"\"\"style_image(string) -> path to Style Image\"\"\"\n",
    "    \n",
    "    style_image = VGGRead(style_image)\n",
    "    \n",
    "    outputs = []\n",
    "    hooks = []\n",
    "    def hook(module, input, output):\n",
    "        outputs.append(output)\n",
    "\n",
    "    hooks += [vgg[3].register_forward_hook(hook)]\n",
    "    hooks += [vgg[8].register_forward_hook(hook)]\n",
    "    hooks += [vgg[15].register_forward_hook(hook)]\n",
    "    hooks += [vgg[22].register_forward_hook(hook)]\n",
    "    \n",
    "    vgg(style_image)\n",
    "    \n",
    "    [i.remove() for i in hooks]\n",
    "    \n",
    "    relu1_2, relu2_2, relu3_3, relu4_3 = outputs\n",
    "    \n",
    "    gram_matrices = {\n",
    "        'gram1_2' : 0,\n",
    "        'gram2_2' : 0,\n",
    "        'gram3_3' : 0,\n",
    "        'gram4_3' : 0\n",
    "    }\n",
    "        \n",
    "    gram_matrices['gram1_2'] = gram_matrix(relu1_2)[0]\n",
    "    gram_matrices['gram2_2'] = gram_matrix(relu2_2)[0]\n",
    "    gram_matrices['gram3_3'] = gram_matrix(relu3_3)[0]\n",
    "    gram_matrices['gram4_3'] = gram_matrix(relu4_3)[0]\n",
    "    \n",
    "    \n",
    "    return gram_matrices"
   ]
  },
  {
   "cell_type": "code",
   "execution_count": 33,
   "metadata": {},
   "outputs": [],
   "source": [
    "def loss_function(input_of_net, output_of_net, style_gram_matrices):\n",
    "    \"\"\"\n",
    "        input_of_net: Nx3x256x256 batch of training images\n",
    "        output_of_net: Nx3x256x256 batch of output images\n",
    "        style_gram_matrices: dict of style gram matrices\n",
    "    \"\"\"\n",
    "    #First, we need to feed the batches of output to vgg to calculate the style losses\n",
    "    outputs = []\n",
    "    hooks = []\n",
    "    def hook(module, input, output):\n",
    "        outputs.append(output)\n",
    "\n",
    "    hooks += [vgg[3].register_forward_hook(hook)]\n",
    "    hooks += [vgg[8].register_forward_hook(hook)]\n",
    "    hooks += [vgg[15].register_forward_hook(hook)]\n",
    "    hooks += [vgg[22].register_forward_hook(hook)]\n",
    "    \n",
    "    vgg(output_of_net)\n",
    "    \n",
    "    [i.remove() for i in hooks]\n",
    "\n",
    "    #now outputs is a list of 4 x N x C x W x H\n",
    "    \n",
    "    relu1_2, relu2_2, relu3_3, relu4_3 = outputs\n",
    "    \n",
    "    gram1_2 = gram_matrix(relu1_2)\n",
    "    gram2_2 = gram_matrix(relu2_2)\n",
    "    gram3_3 = gram_matrix(relu3_3)\n",
    "    gram4_3 = gram_matrix(relu4_3)\n",
    "    \n",
    "    style_loss1 = 0.\n",
    "    style_loss2 = 0.\n",
    "    style_loss3 = 0.\n",
    "    style_loss4 = 0.\n",
    "    \n",
    "    for i in range(gram1_2.shape[0]):\n",
    "        \n",
    "        style_loss1 += torch.norm(gram1_2[i] - style_gram_matrices['gram1_2'])**2\n",
    "        style_loss2 += torch.norm(gram2_2[i] - style_gram_matrices['gram2_2'])**2\n",
    "        style_loss3 += torch.norm(gram3_3[i] - style_gram_matrices['gram3_3'])**2\n",
    "        style_loss4 += torch.norm(gram4_3[i] - style_gram_matrices['gram4_3'])**2\n",
    "    \n",
    "    outputs = []\n",
    "    hooks = []\n",
    "    def hook(module, input, output):\n",
    "        outputs.append(output)\n",
    "        \n",
    "    hooks += [vgg[15].register_forward_hook(hook)]\n",
    "    \n",
    "    vgg(input_of_net)\n",
    "    \n",
    "    [i.remove() for i in hooks]\n",
    "\n",
    "    #now outputs is a list of 4 x N x C x W x H\n",
    "    \n",
    "    input_relu3_3 = outputs[0]\n",
    "    N, C, W, H = input_relu3_3.shape\n",
    "    feat_loss = 0.\n",
    "    for i in range(N):\n",
    "        feat_loss+=(torch.norm(relu3_3[i] - input_relu3_3[i])**2)/C*W*H\n",
    "\n",
    "    \n",
    "    return feat_loss+style_loss1+style_loss2+style_loss3+style_loss4\n",
    "    "
   ]
  },
  {
   "cell_type": "code",
   "execution_count": null,
   "metadata": {},
   "outputs": [],
   "source": []
  },
  {
   "cell_type": "code",
   "execution_count": 35,
   "metadata": {},
   "outputs": [
    {
     "name": "stdout",
     "output_type": "stream",
     "text": [
      "tensor(209370726400., grad_fn=<ThAddBackward>)\n",
      "Epoch 0 done.\n",
      "tensor(81989681152., grad_fn=<ThAddBackward>)\n",
      "Epoch 1 done.\n",
      "tensor(35057745920., grad_fn=<ThAddBackward>)\n",
      "Epoch 2 done.\n",
      "tensor(17063421952., grad_fn=<ThAddBackward>)\n",
      "Epoch 3 done.\n",
      "tensor(7836027904., grad_fn=<ThAddBackward>)\n",
      "Epoch 4 done.\n",
      "tensor(4092288512., grad_fn=<ThAddBackward>)\n",
      "Epoch 5 done.\n",
      "tensor(2559479552., grad_fn=<ThAddBackward>)\n",
      "Epoch 6 done.\n",
      "tensor(1706327040., grad_fn=<ThAddBackward>)\n",
      "Epoch 7 done.\n"
     ]
    },
    {
     "ename": "KeyboardInterrupt",
     "evalue": "",
     "output_type": "error",
     "traceback": [
      "\u001b[0;31m---------------------------------------------------------------------------\u001b[0m",
      "\u001b[0;31mKeyboardInterrupt\u001b[0m                         Traceback (most recent call last)",
      "\u001b[0;32m<ipython-input-35-ac2d13e15a44>\u001b[0m in \u001b[0;36m<module>\u001b[0;34m()\u001b[0m\n\u001b[1;32m     13\u001b[0m     \u001b[0moutput\u001b[0m \u001b[0;34m=\u001b[0m \u001b[0mnet\u001b[0m\u001b[0;34m(\u001b[0m\u001b[0mtestimage\u001b[0m\u001b[0;34m)\u001b[0m\u001b[0;34m\u001b[0m\u001b[0m\n\u001b[1;32m     14\u001b[0m     \u001b[0mloss\u001b[0m \u001b[0;34m=\u001b[0m \u001b[0mloss_function\u001b[0m\u001b[0;34m(\u001b[0m\u001b[0mtestimage\u001b[0m\u001b[0;34m,\u001b[0m \u001b[0moutput\u001b[0m\u001b[0;34m,\u001b[0m \u001b[0mstyle_grams\u001b[0m\u001b[0;34m)\u001b[0m\u001b[0;34m\u001b[0m\u001b[0m\n\u001b[0;32m---> 15\u001b[0;31m     \u001b[0mloss\u001b[0m\u001b[0;34m.\u001b[0m\u001b[0mbackward\u001b[0m\u001b[0;34m(\u001b[0m\u001b[0mretain_graph\u001b[0m\u001b[0;34m=\u001b[0m\u001b[0;32mTrue\u001b[0m\u001b[0;34m)\u001b[0m\u001b[0;34m\u001b[0m\u001b[0m\n\u001b[0m\u001b[1;32m     16\u001b[0m     \u001b[0moptimizer\u001b[0m\u001b[0;34m.\u001b[0m\u001b[0mstep\u001b[0m\u001b[0;34m(\u001b[0m\u001b[0;34m)\u001b[0m\u001b[0;34m\u001b[0m\u001b[0m\n\u001b[1;32m     17\u001b[0m \u001b[0;34m\u001b[0m\u001b[0m\n",
      "\u001b[0;32m~/anaconda3/lib/python3.6/site-packages/torch/tensor.py\u001b[0m in \u001b[0;36mbackward\u001b[0;34m(self, gradient, retain_graph, create_graph)\u001b[0m\n\u001b[1;32m     91\u001b[0m                 \u001b[0mproducts\u001b[0m\u001b[0;34m.\u001b[0m \u001b[0mDefaults\u001b[0m \u001b[0mto\u001b[0m\u001b[0;31m \u001b[0m\u001b[0;31m`\u001b[0m\u001b[0;31m`\u001b[0m\u001b[0;32mFalse\u001b[0m\u001b[0;31m`\u001b[0m\u001b[0;31m`\u001b[0m\u001b[0;34m.\u001b[0m\u001b[0;34m\u001b[0m\u001b[0m\n\u001b[1;32m     92\u001b[0m         \"\"\"\n\u001b[0;32m---> 93\u001b[0;31m         \u001b[0mtorch\u001b[0m\u001b[0;34m.\u001b[0m\u001b[0mautograd\u001b[0m\u001b[0;34m.\u001b[0m\u001b[0mbackward\u001b[0m\u001b[0;34m(\u001b[0m\u001b[0mself\u001b[0m\u001b[0;34m,\u001b[0m \u001b[0mgradient\u001b[0m\u001b[0;34m,\u001b[0m \u001b[0mretain_graph\u001b[0m\u001b[0;34m,\u001b[0m \u001b[0mcreate_graph\u001b[0m\u001b[0;34m)\u001b[0m\u001b[0;34m\u001b[0m\u001b[0m\n\u001b[0m\u001b[1;32m     94\u001b[0m \u001b[0;34m\u001b[0m\u001b[0m\n\u001b[1;32m     95\u001b[0m     \u001b[0;32mdef\u001b[0m \u001b[0mregister_hook\u001b[0m\u001b[0;34m(\u001b[0m\u001b[0mself\u001b[0m\u001b[0;34m,\u001b[0m \u001b[0mhook\u001b[0m\u001b[0;34m)\u001b[0m\u001b[0;34m:\u001b[0m\u001b[0;34m\u001b[0m\u001b[0m\n",
      "\u001b[0;32m~/anaconda3/lib/python3.6/site-packages/torch/autograd/__init__.py\u001b[0m in \u001b[0;36mbackward\u001b[0;34m(tensors, grad_tensors, retain_graph, create_graph, grad_variables)\u001b[0m\n\u001b[1;32m     88\u001b[0m     Variable._execution_engine.run_backward(\n\u001b[1;32m     89\u001b[0m         \u001b[0mtensors\u001b[0m\u001b[0;34m,\u001b[0m \u001b[0mgrad_tensors\u001b[0m\u001b[0;34m,\u001b[0m \u001b[0mretain_graph\u001b[0m\u001b[0;34m,\u001b[0m \u001b[0mcreate_graph\u001b[0m\u001b[0;34m,\u001b[0m\u001b[0;34m\u001b[0m\u001b[0m\n\u001b[0;32m---> 90\u001b[0;31m         allow_unreachable=True)  # allow_unreachable flag\n\u001b[0m\u001b[1;32m     91\u001b[0m \u001b[0;34m\u001b[0m\u001b[0m\n\u001b[1;32m     92\u001b[0m \u001b[0;34m\u001b[0m\u001b[0m\n",
      "\u001b[0;31mKeyboardInterrupt\u001b[0m: "
     ]
    }
   ],
   "source": [
    "net = TransformNet()\n",
    "style_grams = get_style_grams('jonesy.jpg')\n",
    "testimage = VGGRead('Cat03.jpg')\n",
    "n_epochs = 10\n",
    "batch_size = 25\n",
    "optimizer = torch.optim.Adam(net.parameters(), amsgrad=True)\n",
    "\n",
    "for epoch in range(n_epochs):\n",
    "    \n",
    "    net.train()\n",
    "    \n",
    "    optimizer.zero_grad()\n",
    "    output = net(testimage)\n",
    "    loss = loss_function(testimage, output, style_grams)\n",
    "    loss.backward(retain_graph=True)\n",
    "    optimizer.step()\n",
    "        \n",
    "    print(loss)\n",
    "        \n",
    "    print(f\"Epoch {epoch} done.\")"
   ]
  },
  {
   "cell_type": "code",
   "execution_count": 65,
   "metadata": {},
   "outputs": [],
   "source": [
    "res = net(testimage)"
   ]
  },
  {
   "cell_type": "code",
   "execution_count": 66,
   "metadata": {},
   "outputs": [],
   "source": [
    "resimg = np.array(res[0].permute(1, 2, 0).detach())"
   ]
  },
  {
   "cell_type": "code",
   "execution_count": 69,
   "metadata": {},
   "outputs": [],
   "source": [
    "resimg = resimg*3"
   ]
  },
  {
   "cell_type": "code",
   "execution_count": 70,
   "metadata": {},
   "outputs": [
    {
     "data": {
      "text/plain": [
       "<matplotlib.image.AxesImage at 0x1179e6ef0>"
      ]
     },
     "execution_count": 70,
     "metadata": {},
     "output_type": "execute_result"
    },
    {
     "data": {
      "image/png": "[encoded data removed]",
      "text/plain": [
       "<Figure size 432x288 with 1 Axes>"
      ]
     },
     "metadata": {
      "needs_background": "light"
     },
     "output_type": "display_data"
    }
   ],
   "source": [
    "plt.imshow(resimg.astype('uint8'))"
   ]
  },
  {
   "cell_type": "code",
   "execution_count": null,
   "metadata": {},
   "outputs": [],
   "source": []
  }
 ],
 "metadata": {
  "kernelspec": {
   "display_name": "Python 3",
   "language": "python",
   "name": "python3"
  },
  "language_info": {
   "codemirror_mode": {
    "name": "ipython",
    "version": 3
   },
   "file_extension": ".py",
   "mimetype": "text/x-python",
   "name": "python",
   "nbconvert_exporter": "python",
   "pygments_lexer": "ipython3",
   "version": "3.6.6"
  }
 },
 "nbformat": 4,
 "nbformat_minor": 2
}
