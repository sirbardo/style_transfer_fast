{
 "cells": [
  {
   "cell_type": "code",
   "execution_count": 1,
   "metadata": {},
   "outputs": [],
   "source": [
    "import torch\n",
    "import torch.nn as nn\n",
    "import torchvision as vision\n",
    "import torch.nn.functional as F\n",
    "from torchvision import transforms\n",
    "from torchvision import datasets\n",
    "import PIL\n",
    "import numpy as np\n",
    "from matplotlib import pyplot as plt\n",
    "from IPython.core import debugger"
   ]
  },
  {
   "cell_type": "code",
   "execution_count": 2,
   "metadata": {},
   "outputs": [],
   "source": [
    "normalize = transforms.Normalize(mean=[0.485, 0.456, 0.406], std=[0.229, 0.224, 0.225])"
   ]
  },
  {
   "cell_type": "code",
   "execution_count": 3,
   "metadata": {},
   "outputs": [],
   "source": [
    "#Load COCO Dataset\n",
    "comptransf4us = transforms.Compose([\n",
    "        transforms.Resize((224,224)),\n",
    "        transforms.ToTensor(),\n",
    "        #normalize,\n",
    "    ])\n",
    "\n",
    "comptransf4vgg = transforms.Compose([\n",
    "        transforms.Resize((1024,1024)),\n",
    "        transforms.ToTensor(),\n",
    "        #normalize,\n",
    "    ])\n",
    "\n",
    "coco = vision.datasets.ImageFolder('/datasets/', transform=comptransf4us)\n"
   ]
  },
  {
   "cell_type": "code",
   "execution_count": 4,
   "metadata": {},
   "outputs": [],
   "source": [
    "def normalize_batch(batch):\n",
    "    # normalize using imagenet mean and std\n",
    "    mean = batch.new_tensor([0.485, 0.456, 0.406]).view(-1, 1, 1)\n",
    "    std = batch.new_tensor([0.229, 0.224, 0.225]).view(-1, 1, 1)\n",
    "    batch = batch.div_(255.0)\n",
    "    return (batch - mean) / std\n"
   ]
  },
  {
   "cell_type": "code",
   "execution_count": 5,
   "metadata": {},
   "outputs": [],
   "source": [
    "# Residual block\n",
    "class ResidualBlock(nn.Module):\n",
    "    def __init__(self, filters, kernel_size=3, stride=1, padding=0):\n",
    "        super(ResidualBlock, self).__init__()\n",
    "        self.ksize = kernel_size\n",
    "        self.conv1 = nn.Conv2d(filters, filters, kernel_size, stride, padding)\n",
    "        #self.bn1 = nn.BatchNorm2d(filters)\n",
    "        self.in1 = nn.InstanceNorm2d(filters, affine=True)\n",
    "        self.conv2 = nn.Conv2d(filters, filters, kernel_size, stride, padding)\n",
    "        #self.bn2 = nn.BatchNorm2d(filters)\n",
    "        self.in2 = nn.InstanceNorm2d(filters, affine=True)\n",
    "        \n",
    "\n",
    "    def forward(self, x):\n",
    "        residual = x\n",
    "        out = self.conv1(x)\n",
    "        out = self.in1(out)\n",
    "        out = F.relu(out)\n",
    "        out = self.conv2(out)\n",
    "        out = self.in2(out)\n",
    "        out += F.pad(residual, (-2, -2, -2, -2))\n",
    "        return out\n",
    "                                                 \n",
    "class UpsampleConvLayer(nn.Module):\n",
    "    \"\"\"UpsampleConvLayer\n",
    "    Upsamples the input and then does a convolution. This method gives better results\n",
    "    compared to ConvTranspose2d.\n",
    "    ref: http://distill.pub/2016/deconv-checkerboard/\n",
    "    \"\"\"\n",
    "\n",
    "    def __init__(self, in_channels, out_channels, kernel_size, stride, upsample=None):\n",
    "        super(UpsampleConvLayer, self).__init__()\n",
    "        self.upsample = upsample\n",
    "        reflection_padding = kernel_size // 2\n",
    "        self.reflection_pad = nn.ReflectionPad2d(reflection_padding)\n",
    "        self.conv2d = nn.Conv2d(in_channels, out_channels, kernel_size, stride)\n",
    "\n",
    "    def forward(self, x):\n",
    "        x_in = x\n",
    "        if self.upsample:\n",
    "            x_in = nn.functional.interpolate(x_in, mode='nearest', scale_factor=self.upsample)\n",
    "        out = self.reflection_pad(x_in)\n",
    "        out = self.conv2d(out)\n",
    "        return out\n"
   ]
  },
  {
   "cell_type": "code",
   "execution_count": 6,
   "metadata": {},
   "outputs": [],
   "source": [
    "class TransformNet(nn.Module):\n",
    "    \n",
    "    def __init__(self):\n",
    "        super(TransformNet, self).__init__()\n",
    "        \n",
    "        self.reflectPadding2D = nn.ReflectionPad2d(40)\n",
    "        self.conv1 = nn.Conv2d(3, 32, 9, padding=4)\n",
    "        #self.bn1 = nn.BatchNorm2d(32)\n",
    "        self.in1 = nn.InstanceNorm2d(32, affine=True)\n",
    "        self.conv2 = nn.Conv2d(32, 64, 3, padding=1, stride=2)\n",
    "        #self.bn2 = nn.BatchNorm2d(64)\n",
    "        self.in2 = nn.InstanceNorm2d(64, affine=True)\n",
    "        self.conv3 = nn.Conv2d(64, 128, 3, padding=1, stride=2)\n",
    "        #self.bn3 = nn.BatchNorm2d(128)\n",
    "        self.in3 = nn.InstanceNorm2d(128, affine=True)\n",
    "        self.res1 = ResidualBlock(128)\n",
    "        self.res2 = ResidualBlock(128)\n",
    "        self.res3 = ResidualBlock(128)\n",
    "        self.res4 = ResidualBlock(128)\n",
    "        self.res5 = ResidualBlock(128)\n",
    "        self.deconv1 = UpsampleConvLayer(128, 64, kernel_size=3, stride=1, upsample=2)\n",
    "        #self.bn_deconv1 = nn.BatchNorm2d(64)\n",
    "        self.in_deconv1 = nn.InstanceNorm2d(64, affine=True)\n",
    "        self.deconv2 = UpsampleConvLayer(64, 32, kernel_size=3, stride=1, upsample=2)\n",
    "        #self.bn_deconv2 = nn.BatchNorm2d(32)\n",
    "        self.in_deconv2 = nn.InstanceNorm2d(32, affine=True)\n",
    "        self.outputConv = nn.Conv2d(32, 3, 9, padding=4)\n",
    "        \n",
    "        \n",
    "    def forward(self, x):\n",
    "        \n",
    "        x = self.reflectPadding2D(x)\n",
    "        x = F.relu(self.in1(self.conv1(x)))\n",
    "        x = F.relu(self.in2(self.conv2(x)))\n",
    "        x = F.relu(self.in3(self.conv3(x)))\n",
    "        x = self.res1(x)\n",
    "        x = self.res2(x)\n",
    "        x = self.res3(x)\n",
    "        x = self.res4(x)\n",
    "        x = self.res5(x)\n",
    "        x = F.relu(self.in_deconv1(self.deconv1(x)))\n",
    "        x = F.relu(self.in_deconv2(self.deconv2(x)))\n",
    "        x = (F.tanh(self.outputConv(x))+1)*127.5\n",
    "        \n",
    "        return x\n",
    "        "
   ]
  },
  {
   "cell_type": "code",
   "execution_count": 7,
   "metadata": {},
   "outputs": [],
   "source": [
    "def normalizeTensor(x):\n",
    "    assert type(x) == torch.Tensor\n",
    "    minim = torch.min(x)\n",
    "    maxim = torch.max(x)\n",
    "    \n",
    "    return (x - minim)/(maxim - minim)"
   ]
  },
  {
   "cell_type": "code",
   "execution_count": 8,
   "metadata": {},
   "outputs": [],
   "source": [
    "vgg = vision.models.vgg16(pretrained=True).features.cuda()\n",
    "\n",
    "for param in vgg.parameters():\n",
    "    \n",
    "    param.requires_grad = False"
   ]
  },
  {
   "cell_type": "code",
   "execution_count": 9,
   "metadata": {},
   "outputs": [],
   "source": [
    "def VGGRead(path, s1 = 1024, s2 = 1024, normalizer=True):\n",
    "    assert type(path) == str\n",
    "    testimage = PIL.Image.open(path)\n",
    "    \n",
    "    if normalizer:\n",
    "        comptransf4vgg = transforms.Compose([\n",
    "            transforms.Resize((s1,s2)),\n",
    "            transforms.ToTensor(),\n",
    "            normalize,\n",
    "        ])\n",
    "    else:\n",
    "        comptransf4vgg = transforms.Compose([\n",
    "            transforms.Resize((s1,s2)),\n",
    "            transforms.ToTensor()\n",
    "        ])\n",
    "\n",
    "\n",
    "    \n",
    "    testimage = comptransf4vgg(testimage).cuda()\n",
    "        \n",
    "    return testimage.unsqueeze(0)\n"
   ]
  },
  {
   "cell_type": "code",
   "execution_count": 10,
   "metadata": {},
   "outputs": [],
   "source": [
    "def gram_matrix(x):\n",
    "    \"\"\"\n",
    "    returns N x C x C gram matrices of N x C x W x H batches\n",
    "    \"\"\"\n",
    "    assert len(x.shape) == 4 #we're working on batches N x C x W x H\n",
    "    N, C, W, H = x.shape\n",
    "    \n",
    "    batch_of_grams = torch.empty((N, C, C), device='cuda:0')\n",
    "    \n",
    "    for idx, batch_item in enumerate(x):\n",
    "        \n",
    "        #assert batch_item.requires_grad\n",
    "        \n",
    "        batch_item = batch_item.reshape(C, W*H)\n",
    "        \n",
    "        gram_matrix = torch.matmul(batch_item, batch_item.transpose(0, 1))\n",
    "        \n",
    "        batch_of_grams[idx] = gram_matrix\n",
    "        \n",
    "    batch_of_grams /= (C*W*H)\n",
    "    return batch_of_grams"
   ]
  },
  {
   "cell_type": "code",
   "execution_count": 11,
   "metadata": {},
   "outputs": [],
   "source": [
    "def get_style_grams(style_image):\n",
    "    \"\"\"style_image(string) -> path to Style Image\"\"\"\n",
    "    \n",
    "    style_image = VGGRead(style_image, s1=224, s2=224)\n",
    "    \n",
    "    outputs = []\n",
    "    hooks = []\n",
    "    def hook(module, input, output):\n",
    "        outputs.append(output)\n",
    "\n",
    "    hooks += [vgg[3].register_forward_hook(hook)]\n",
    "    hooks += [vgg[8].register_forward_hook(hook)]\n",
    "    hooks += [vgg[15].register_forward_hook(hook)]\n",
    "    hooks += [vgg[22].register_forward_hook(hook)]\n",
    "    \n",
    "    vgg(style_image)\n",
    "    \n",
    "    [i.remove() for i in hooks]\n",
    "    \n",
    "    relu1_2, relu2_2, relu3_3, relu4_3 = outputs\n",
    "        \n",
    "    \n",
    "    \n",
    "    return gram_matrix(relu1_2)[0], gram_matrix(relu2_2)[0], gram_matrix(relu3_3)[0], gram_matrix(relu4_3)[0]\n"
   ]
  },
  {
   "cell_type": "code",
   "execution_count": 12,
   "metadata": {},
   "outputs": [],
   "source": [
    "def loss_function(input_of_net, output_of_net, style_gram1, style_gram2, style_gram3, style_gram4):\n",
    "    \"\"\"\n",
    "        input_of_net: Nx3x256x256 batch of training images\n",
    "        output_of_net: Nx3x256x256 batch of output images\n",
    "        style_gram_matrices: dict of style gram matrices\n",
    "    \"\"\"\n",
    "    output_of_net = normalize_batch(output_of_net)\n",
    "    input_of_net = normalize_batch(input_of_net)\n",
    "    #First, we need to feed the batches of output to vgg to calculate the style losses\n",
    "    outputs = []\n",
    "    hooks = []\n",
    "    def hook(module, input, output):\n",
    "        outputs.append(output)\n",
    "\n",
    "    hooks += [vgg[3].register_forward_hook(hook)]\n",
    "    hooks += [vgg[8].register_forward_hook(hook)]\n",
    "    hooks += [vgg[15].register_forward_hook(hook)]\n",
    "    hooks += [vgg[22].register_forward_hook(hook)]\n",
    "    \n",
    "    #debugger.set_trace()\n",
    "    \n",
    "    vgg(output_of_net)\n",
    "    \n",
    "    [i.remove() for i in hooks]\n",
    "\n",
    "    #now outputs is a list of 4 x N x C x W x H\n",
    "    \n",
    "    relu1_2, relu2_2, relu3_3, relu4_3 = outputs\n",
    "    \n",
    "    gram1_2 = gram_matrix(relu1_2)\n",
    "    gram2_2 = gram_matrix(relu2_2)\n",
    "    gram3_3 = gram_matrix(relu3_3)\n",
    "    gram4_3 = gram_matrix(relu4_3)\n",
    "    \n",
    "    style_loss1 = torch.cuda.FloatTensor([0.])\n",
    "    style_loss2 = torch.cuda.FloatTensor([0.])\n",
    "    style_loss3 = torch.cuda.FloatTensor([0.])\n",
    "    style_loss4 = torch.cuda.FloatTensor([0.])\n",
    "    \n",
    "    for i in range(gram1_2.shape[0]):\n",
    "        \n",
    "        style_loss1 += (torch.norm(gram1_2[i] - style_gram1)**2)\n",
    "        style_loss2 += (torch.norm(gram2_2[i] - style_gram2)**2)\n",
    "        style_loss3 += (torch.norm(gram3_3[i] - style_gram3)**2)\n",
    "        style_loss4 += (torch.norm(gram4_3[i] - style_gram4)**2)\n",
    "    \n",
    "    outputs = []\n",
    "    hooks = []\n",
    "    def hook(module, input, output):\n",
    "        outputs.append(output)\n",
    "        \n",
    "    hooks += [vgg[15].register_forward_hook(hook)]\n",
    "        \n",
    "    vgg(input_of_net)\n",
    "    \n",
    "    [i.remove() for i in hooks]\n",
    "\n",
    "    #now outputs is a list of 4 x N x C x W x H\n",
    "    input_relu3_3 = outputs[0]\n",
    "    N, C, W, H = input_relu3_3.shape\n",
    "    feat_loss = torch.cuda.FloatTensor([0.])\n",
    "    for i in range(N):\n",
    "        feat_loss+=(torch.norm(relu3_3[i] - input_relu3_3[i])**2)/(C*W*H)\n",
    "\n",
    "    return feat_loss+style_loss1*2+style_loss2*2+style_loss3*2+style_loss4*2\n",
    "    "
   ]
  },
  {
   "cell_type": "code",
   "execution_count": null,
   "metadata": {},
   "outputs": [],
   "source": []
  },
  {
   "cell_type": "code",
   "execution_count": 13,
   "metadata": {},
   "outputs": [
    {
     "name": "stderr",
     "output_type": "stream",
     "text": [
      "  0%|                                                                                         | 0/7705 [00:00<?, ?it/s]c:\\program files\\python36\\lib\\site-packages\\torch\\nn\\functional.py:995: UserWarning: nn.functional.tanh is deprecated. Use torch.tanh instead.\n",
      "  warnings.warn(\"nn.functional.tanh is deprecated. Use torch.tanh instead.\")\n",
      "  1%|█                                                                             | 99/7705 [00:56<1:12:15,  1.75it/s]"
     ]
    },
    {
     "name": "stdout",
     "output_type": "stream",
     "text": [
      "tensor([338.4066], device='cuda:0', grad_fn=<ThAddBackward>)\n"
     ]
    },
    {
     "name": "stderr",
     "output_type": "stream",
     "text": [
      "  3%|█▉                                                                           | 199/7705 [01:52<1:11:01,  1.76it/s]"
     ]
    },
    {
     "name": "stdout",
     "output_type": "stream",
     "text": [
      "tensor([278.5297], device='cuda:0', grad_fn=<ThAddBackward>)\n"
     ]
    },
    {
     "name": "stderr",
     "output_type": "stream",
     "text": [
      "  4%|██▉                                                                          | 299/7705 [02:49<1:10:01,  1.76it/s]"
     ]
    },
    {
     "name": "stdout",
     "output_type": "stream",
     "text": [
      "tensor([268.0682], device='cuda:0', grad_fn=<ThAddBackward>)\n"
     ]
    },
    {
     "name": "stderr",
     "output_type": "stream",
     "text": [
      "  5%|███▉                                                                         | 399/7705 [03:46<1:09:02,  1.76it/s]"
     ]
    },
    {
     "name": "stdout",
     "output_type": "stream",
     "text": [
      "tensor([241.6242], device='cuda:0', grad_fn=<ThAddBackward>)\n"
     ]
    },
    {
     "name": "stderr",
     "output_type": "stream",
     "text": [
      "  6%|████▉                                                                        | 499/7705 [04:42<1:08:04,  1.76it/s]"
     ]
    },
    {
     "name": "stdout",
     "output_type": "stream",
     "text": [
      "tensor([224.5269], device='cuda:0', grad_fn=<ThAddBackward>)\n"
     ]
    },
    {
     "name": "stderr",
     "output_type": "stream",
     "text": [
      "  8%|█████▉                                                                       | 599/7705 [05:39<1:07:06,  1.76it/s]"
     ]
    },
    {
     "name": "stdout",
     "output_type": "stream",
     "text": [
      "tensor([234.4883], device='cuda:0', grad_fn=<ThAddBackward>)\n"
     ]
    },
    {
     "name": "stderr",
     "output_type": "stream",
     "text": [
      "  9%|██████▉                                                                      | 699/7705 [06:36<1:06:09,  1.76it/s]"
     ]
    },
    {
     "name": "stdout",
     "output_type": "stream",
     "text": [
      "tensor([202.7723], device='cuda:0', grad_fn=<ThAddBackward>)\n"
     ]
    },
    {
     "name": "stderr",
     "output_type": "stream",
     "text": [
      " 10%|███████▉                                                                     | 799/7705 [07:32<1:05:11,  1.77it/s]"
     ]
    },
    {
     "name": "stdout",
     "output_type": "stream",
     "text": [
      "tensor([204.6334], device='cuda:0', grad_fn=<ThAddBackward>)\n"
     ]
    },
    {
     "name": "stderr",
     "output_type": "stream",
     "text": [
      " 12%|████████▉                                                                    | 899/7705 [08:29<1:04:13,  1.77it/s]"
     ]
    },
    {
     "name": "stdout",
     "output_type": "stream",
     "text": [
      "tensor([198.5908], device='cuda:0', grad_fn=<ThAddBackward>)\n"
     ]
    },
    {
     "name": "stderr",
     "output_type": "stream",
     "text": [
      " 13%|█████████▉                                                                   | 999/7705 [09:25<1:03:18,  1.77it/s]"
     ]
    },
    {
     "name": "stdout",
     "output_type": "stream",
     "text": [
      "tensor([201.8249], device='cuda:0', grad_fn=<ThAddBackward>)\n"
     ]
    },
    {
     "name": "stderr",
     "output_type": "stream",
     "text": [
      " 14%|██████████▊                                                                 | 1099/7705 [10:22<1:02:21,  1.77it/s]"
     ]
    },
    {
     "name": "stdout",
     "output_type": "stream",
     "text": [
      "tensor([196.5180], device='cuda:0', grad_fn=<ThAddBackward>)\n"
     ]
    },
    {
     "name": "stderr",
     "output_type": "stream",
     "text": [
      " 16%|███████████▊                                                                | 1199/7705 [11:19<1:01:24,  1.77it/s]"
     ]
    },
    {
     "name": "stdout",
     "output_type": "stream",
     "text": [
      "tensor([192.8162], device='cuda:0', grad_fn=<ThAddBackward>)\n"
     ]
    },
    {
     "name": "stderr",
     "output_type": "stream",
     "text": [
      " 17%|████████████▊                                                               | 1299/7705 [12:16<1:00:29,  1.76it/s]"
     ]
    },
    {
     "name": "stdout",
     "output_type": "stream",
     "text": [
      "tensor([191.0550], device='cuda:0', grad_fn=<ThAddBackward>)\n"
     ]
    },
    {
     "name": "stderr",
     "output_type": "stream",
     "text": [
      " 18%|██████████████▏                                                               | 1399/7705 [13:12<59:32,  1.77it/s]"
     ]
    },
    {
     "name": "stdout",
     "output_type": "stream",
     "text": [
      "tensor([190.4382], device='cuda:0', grad_fn=<ThAddBackward>)\n"
     ]
    },
    {
     "name": "stderr",
     "output_type": "stream",
     "text": [
      " 19%|███████████████▏                                                              | 1499/7705 [14:08<58:34,  1.77it/s]"
     ]
    },
    {
     "name": "stdout",
     "output_type": "stream",
     "text": [
      "tensor([192.4374], device='cuda:0', grad_fn=<ThAddBackward>)\n"
     ]
    },
    {
     "name": "stderr",
     "output_type": "stream",
     "text": [
      " 21%|████████████████▏                                                             | 1599/7705 [15:05<57:38,  1.77it/s]"
     ]
    },
    {
     "name": "stdout",
     "output_type": "stream",
     "text": [
      "tensor([191.4936], device='cuda:0', grad_fn=<ThAddBackward>)\n"
     ]
    },
    {
     "name": "stderr",
     "output_type": "stream",
     "text": [
      " 22%|█████████████████▏                                                            | 1699/7705 [16:02<56:42,  1.77it/s]"
     ]
    },
    {
     "name": "stdout",
     "output_type": "stream",
     "text": [
      "tensor([187.0780], device='cuda:0', grad_fn=<ThAddBackward>)\n"
     ]
    },
    {
     "name": "stderr",
     "output_type": "stream",
     "text": [
      " 23%|██████████████████▏                                                           | 1799/7705 [16:58<55:44,  1.77it/s]"
     ]
    },
    {
     "name": "stdout",
     "output_type": "stream",
     "text": [
      "tensor([195.9326], device='cuda:0', grad_fn=<ThAddBackward>)\n"
     ]
    },
    {
     "name": "stderr",
     "output_type": "stream",
     "text": [
      " 25%|███████████████████▏                                                          | 1899/7705 [17:55<54:47,  1.77it/s]"
     ]
    },
    {
     "name": "stdout",
     "output_type": "stream",
     "text": [
      "tensor([184.9534], device='cuda:0', grad_fn=<ThAddBackward>)\n"
     ]
    },
    {
     "name": "stderr",
     "output_type": "stream",
     "text": [
      " 26%|████████████████████▏                                                         | 1999/7705 [18:51<53:50,  1.77it/s]"
     ]
    },
    {
     "name": "stdout",
     "output_type": "stream",
     "text": [
      "tensor([176.1409], device='cuda:0', grad_fn=<ThAddBackward>)\n"
     ]
    },
    {
     "name": "stderr",
     "output_type": "stream",
     "text": [
      " 27%|█████████████████████▏                                                        | 2099/7705 [19:48<52:53,  1.77it/s]"
     ]
    },
    {
     "name": "stdout",
     "output_type": "stream",
     "text": [
      "tensor([184.3959], device='cuda:0', grad_fn=<ThAddBackward>)\n"
     ]
    },
    {
     "name": "stderr",
     "output_type": "stream",
     "text": [
      " 29%|██████████████████████▎                                                       | 2199/7705 [20:44<51:57,  1.77it/s]"
     ]
    },
    {
     "name": "stdout",
     "output_type": "stream",
     "text": [
      "tensor([185.7444], device='cuda:0', grad_fn=<ThAddBackward>)\n"
     ]
    },
    {
     "name": "stderr",
     "output_type": "stream",
     "text": [
      " 30%|███████████████████████▎                                                      | 2299/7705 [21:41<50:59,  1.77it/s]"
     ]
    },
    {
     "name": "stdout",
     "output_type": "stream",
     "text": [
      "tensor([169.8326], device='cuda:0', grad_fn=<ThAddBackward>)\n"
     ]
    },
    {
     "name": "stderr",
     "output_type": "stream",
     "text": [
      " 31%|████████████████████████▎                                                     | 2399/7705 [22:37<50:03,  1.77it/s]"
     ]
    },
    {
     "name": "stdout",
     "output_type": "stream",
     "text": [
      "tensor([182.1398], device='cuda:0', grad_fn=<ThAddBackward>)\n"
     ]
    },
    {
     "name": "stderr",
     "output_type": "stream",
     "text": [
      " 32%|█████████████████████████▎                                                    | 2499/7705 [23:34<49:06,  1.77it/s]"
     ]
    },
    {
     "name": "stdout",
     "output_type": "stream",
     "text": [
      "tensor([188.6432], device='cuda:0', grad_fn=<ThAddBackward>)\n"
     ]
    },
    {
     "name": "stderr",
     "output_type": "stream",
     "text": [
      " 34%|██████████████████████████▎                                                   | 2599/7705 [24:30<48:09,  1.77it/s]"
     ]
    },
    {
     "name": "stdout",
     "output_type": "stream",
     "text": [
      "tensor([204.6753], device='cuda:0', grad_fn=<ThAddBackward>)\n"
     ]
    },
    {
     "name": "stderr",
     "output_type": "stream",
     "text": [
      " 35%|███████████████████████████▎                                                  | 2699/7705 [25:27<47:12,  1.77it/s]"
     ]
    },
    {
     "name": "stdout",
     "output_type": "stream",
     "text": [
      "tensor([183.7876], device='cuda:0', grad_fn=<ThAddBackward>)\n"
     ]
    },
    {
     "name": "stderr",
     "output_type": "stream",
     "text": [
      " 36%|████████████████████████████▎                                                 | 2799/7705 [26:24<46:16,  1.77it/s]"
     ]
    },
    {
     "name": "stdout",
     "output_type": "stream",
     "text": [
      "tensor([173.8610], device='cuda:0', grad_fn=<ThAddBackward>)\n"
     ]
    },
    {
     "name": "stderr",
     "output_type": "stream",
     "text": [
      " 38%|█████████████████████████████▎                                                | 2899/7705 [27:20<45:19,  1.77it/s]"
     ]
    },
    {
     "name": "stdout",
     "output_type": "stream",
     "text": [
      "tensor([188.5276], device='cuda:0', grad_fn=<ThAddBackward>)\n"
     ]
    },
    {
     "name": "stderr",
     "output_type": "stream",
     "text": [
      " 39%|██████████████████████████████▎                                               | 2999/7705 [28:16<44:22,  1.77it/s]"
     ]
    },
    {
     "name": "stdout",
     "output_type": "stream",
     "text": [
      "tensor([164.8267], device='cuda:0', grad_fn=<ThAddBackward>)\n"
     ]
    },
    {
     "name": "stderr",
     "output_type": "stream",
     "text": [
      " 40%|███████████████████████████████▎                                              | 3099/7705 [29:13<43:25,  1.77it/s]"
     ]
    },
    {
     "name": "stdout",
     "output_type": "stream",
     "text": [
      "tensor([170.4639], device='cuda:0', grad_fn=<ThAddBackward>)\n"
     ]
    },
    {
     "name": "stderr",
     "output_type": "stream",
     "text": [
      " 42%|████████████████████████████████▍                                             | 3199/7705 [30:09<42:29,  1.77it/s]"
     ]
    },
    {
     "name": "stdout",
     "output_type": "stream",
     "text": [
      "tensor([170.3926], device='cuda:0', grad_fn=<ThAddBackward>)\n"
     ]
    },
    {
     "name": "stderr",
     "output_type": "stream",
     "text": [
      " 43%|█████████████████████████████████▍                                            | 3299/7705 [31:06<41:32,  1.77it/s]"
     ]
    },
    {
     "name": "stdout",
     "output_type": "stream",
     "text": [
      "tensor([172.1102], device='cuda:0', grad_fn=<ThAddBackward>)\n"
     ]
    },
    {
     "name": "stderr",
     "output_type": "stream",
     "text": [
      " 44%|██████████████████████████████████▍                                           | 3399/7705 [32:02<40:35,  1.77it/s]"
     ]
    },
    {
     "name": "stdout",
     "output_type": "stream",
     "text": [
      "tensor([201.9663], device='cuda:0', grad_fn=<ThAddBackward>)\n"
     ]
    },
    {
     "name": "stderr",
     "output_type": "stream",
     "text": [
      " 45%|███████████████████████████████████▍                                          | 3499/7705 [32:59<39:38,  1.77it/s]"
     ]
    },
    {
     "name": "stdout",
     "output_type": "stream",
     "text": [
      "tensor([166.3205], device='cuda:0', grad_fn=<ThAddBackward>)\n"
     ]
    },
    {
     "name": "stderr",
     "output_type": "stream",
     "text": [
      " 47%|████████████████████████████████████▍                                         | 3599/7705 [33:55<38:42,  1.77it/s]"
     ]
    },
    {
     "name": "stdout",
     "output_type": "stream",
     "text": [
      "tensor([176.5688], device='cuda:0', grad_fn=<ThAddBackward>)\n"
     ]
    },
    {
     "name": "stderr",
     "output_type": "stream",
     "text": [
      " 48%|█████████████████████████████████████▍                                        | 3699/7705 [34:52<37:45,  1.77it/s]"
     ]
    },
    {
     "name": "stdout",
     "output_type": "stream",
     "text": [
      "tensor([191.4746], device='cuda:0', grad_fn=<ThAddBackward>)\n"
     ]
    },
    {
     "name": "stderr",
     "output_type": "stream",
     "text": [
      " 49%|██████████████████████████████████████▍                                       | 3799/7705 [35:48<36:49,  1.77it/s]"
     ]
    },
    {
     "name": "stdout",
     "output_type": "stream",
     "text": [
      "tensor([175.1514], device='cuda:0', grad_fn=<ThAddBackward>)\n"
     ]
    },
    {
     "name": "stderr",
     "output_type": "stream",
     "text": [
      " 51%|███████████████████████████████████████▍                                      | 3899/7705 [36:45<35:52,  1.77it/s]"
     ]
    },
    {
     "name": "stdout",
     "output_type": "stream",
     "text": [
      "tensor([187.0161], device='cuda:0', grad_fn=<ThAddBackward>)\n"
     ]
    },
    {
     "name": "stderr",
     "output_type": "stream",
     "text": [
      " 52%|████████████████████████████████████████▍                                     | 3999/7705 [37:41<34:56,  1.77it/s]"
     ]
    },
    {
     "name": "stdout",
     "output_type": "stream",
     "text": [
      "tensor([176.5520], device='cuda:0', grad_fn=<ThAddBackward>)\n"
     ]
    },
    {
     "name": "stderr",
     "output_type": "stream",
     "text": [
      " 53%|█████████████████████████████████████████▍                                    | 4099/7705 [38:38<33:59,  1.77it/s]"
     ]
    },
    {
     "name": "stdout",
     "output_type": "stream",
     "text": [
      "tensor([157.7796], device='cuda:0', grad_fn=<ThAddBackward>)\n"
     ]
    },
    {
     "name": "stderr",
     "output_type": "stream",
     "text": [
      " 54%|██████████████████████████████████████████▌                                   | 4199/7705 [39:34<33:03,  1.77it/s]"
     ]
    },
    {
     "name": "stdout",
     "output_type": "stream",
     "text": [
      "tensor([171.6094], device='cuda:0', grad_fn=<ThAddBackward>)\n"
     ]
    },
    {
     "name": "stderr",
     "output_type": "stream",
     "text": [
      " 56%|███████████████████████████████████████████▌                                  | 4299/7705 [40:31<32:06,  1.77it/s]"
     ]
    },
    {
     "name": "stdout",
     "output_type": "stream",
     "text": [
      "tensor([175.4714], device='cuda:0', grad_fn=<ThAddBackward>)\n"
     ]
    },
    {
     "name": "stderr",
     "output_type": "stream",
     "text": [
      " 57%|████████████████████████████████████████████▌                                 | 4399/7705 [41:28<31:09,  1.77it/s]"
     ]
    },
    {
     "name": "stdout",
     "output_type": "stream",
     "text": [
      "tensor([176.9258], device='cuda:0', grad_fn=<ThAddBackward>)\n"
     ]
    },
    {
     "name": "stderr",
     "output_type": "stream",
     "text": [
      " 58%|█████████████████████████████████████████████▌                                | 4499/7705 [42:24<30:13,  1.77it/s]"
     ]
    },
    {
     "name": "stdout",
     "output_type": "stream",
     "text": [
      "tensor([170.5128], device='cuda:0', grad_fn=<ThAddBackward>)\n"
     ]
    },
    {
     "name": "stderr",
     "output_type": "stream",
     "text": [
      " 60%|██████████████████████████████████████████████▌                               | 4599/7705 [43:21<29:16,  1.77it/s]"
     ]
    },
    {
     "name": "stdout",
     "output_type": "stream",
     "text": [
      "tensor([182.0123], device='cuda:0', grad_fn=<ThAddBackward>)\n"
     ]
    },
    {
     "name": "stderr",
     "output_type": "stream",
     "text": [
      " 61%|███████████████████████████████████████████████▌                              | 4699/7705 [44:17<28:20,  1.77it/s]"
     ]
    },
    {
     "name": "stdout",
     "output_type": "stream",
     "text": [
      "tensor([169.5550], device='cuda:0', grad_fn=<ThAddBackward>)\n"
     ]
    },
    {
     "name": "stderr",
     "output_type": "stream",
     "text": [
      " 62%|████████████████████████████████████████████████▌                             | 4799/7705 [45:14<27:23,  1.77it/s]"
     ]
    },
    {
     "name": "stdout",
     "output_type": "stream",
     "text": [
      "tensor([172.5249], device='cuda:0', grad_fn=<ThAddBackward>)\n"
     ]
    },
    {
     "name": "stderr",
     "output_type": "stream",
     "text": [
      " 64%|█████████████████████████████████████████████████▌                            | 4899/7705 [46:11<26:27,  1.77it/s]"
     ]
    },
    {
     "name": "stdout",
     "output_type": "stream",
     "text": [
      "tensor([178.9253], device='cuda:0', grad_fn=<ThAddBackward>)\n"
     ]
    },
    {
     "name": "stderr",
     "output_type": "stream",
     "text": [
      " 65%|██████████████████████████████████████████████████▌                           | 4999/7705 [47:07<25:30,  1.77it/s]"
     ]
    },
    {
     "name": "stdout",
     "output_type": "stream",
     "text": [
      "tensor([167.8014], device='cuda:0', grad_fn=<ThAddBackward>)\n"
     ]
    },
    {
     "name": "stderr",
     "output_type": "stream",
     "text": [
      " 66%|███████████████████████████████████████████████████▌                          | 5099/7705 [48:04<24:34,  1.77it/s]"
     ]
    },
    {
     "name": "stdout",
     "output_type": "stream",
     "text": [
      "tensor([168.2980], device='cuda:0', grad_fn=<ThAddBackward>)\n"
     ]
    },
    {
     "name": "stderr",
     "output_type": "stream",
     "text": [
      " 67%|████████████████████████████████████████████████████▋                         | 5199/7705 [49:01<23:37,  1.77it/s]"
     ]
    },
    {
     "name": "stdout",
     "output_type": "stream",
     "text": [
      "tensor([159.6569], device='cuda:0', grad_fn=<ThAddBackward>)\n"
     ]
    },
    {
     "name": "stderr",
     "output_type": "stream",
     "text": [
      " 69%|█████████████████████████████████████████████████████▋                        | 5299/7705 [49:57<22:41,  1.77it/s]"
     ]
    },
    {
     "name": "stdout",
     "output_type": "stream",
     "text": [
      "tensor([189.2567], device='cuda:0', grad_fn=<ThAddBackward>)\n"
     ]
    },
    {
     "name": "stderr",
     "output_type": "stream",
     "text": [
      " 70%|██████████████████████████████████████████████████████▋                       | 5399/7705 [50:54<21:44,  1.77it/s]"
     ]
    },
    {
     "name": "stdout",
     "output_type": "stream",
     "text": [
      "tensor([200.9067], device='cuda:0', grad_fn=<ThAddBackward>)\n"
     ]
    },
    {
     "name": "stderr",
     "output_type": "stream",
     "text": [
      " 71%|███████████████████████████████████████████████████████▋                      | 5499/7705 [51:51<20:48,  1.77it/s]"
     ]
    },
    {
     "name": "stdout",
     "output_type": "stream",
     "text": [
      "tensor([172.1292], device='cuda:0', grad_fn=<ThAddBackward>)\n"
     ]
    },
    {
     "name": "stderr",
     "output_type": "stream",
     "text": [
      " 73%|████████████████████████████████████████████████████████▋                     | 5599/7705 [52:47<19:51,  1.77it/s]"
     ]
    },
    {
     "name": "stdout",
     "output_type": "stream",
     "text": [
      "tensor([175.1742], device='cuda:0', grad_fn=<ThAddBackward>)\n"
     ]
    },
    {
     "name": "stderr",
     "output_type": "stream",
     "text": [
      " 74%|█████████████████████████████████████████████████████████▋                    | 5699/7705 [53:44<18:54,  1.77it/s]"
     ]
    },
    {
     "name": "stdout",
     "output_type": "stream",
     "text": [
      "tensor([174.3123], device='cuda:0', grad_fn=<ThAddBackward>)\n"
     ]
    },
    {
     "name": "stderr",
     "output_type": "stream",
     "text": [
      " 75%|██████████████████████████████████████████████████████████▋                   | 5799/7705 [54:41<17:58,  1.77it/s]"
     ]
    },
    {
     "name": "stdout",
     "output_type": "stream",
     "text": [
      "tensor([170.6017], device='cuda:0', grad_fn=<ThAddBackward>)\n"
     ]
    },
    {
     "name": "stderr",
     "output_type": "stream",
     "text": [
      " 77%|███████████████████████████████████████████████████████████▋                  | 5899/7705 [55:37<17:01,  1.77it/s]"
     ]
    },
    {
     "name": "stdout",
     "output_type": "stream",
     "text": [
      "tensor([172.5631], device='cuda:0', grad_fn=<ThAddBackward>)\n"
     ]
    },
    {
     "name": "stderr",
     "output_type": "stream",
     "text": [
      " 78%|████████████████████████████████████████████████████████████▋                 | 5999/7705 [56:34<16:05,  1.77it/s]"
     ]
    },
    {
     "name": "stdout",
     "output_type": "stream",
     "text": [
      "tensor([159.3120], device='cuda:0', grad_fn=<ThAddBackward>)\n"
     ]
    },
    {
     "name": "stderr",
     "output_type": "stream",
     "text": [
      " 79%|█████████████████████████████████████████████████████████████▋                | 6099/7705 [57:31<15:08,  1.77it/s]"
     ]
    },
    {
     "name": "stdout",
     "output_type": "stream",
     "text": [
      "tensor([178.2968], device='cuda:0', grad_fn=<ThAddBackward>)\n"
     ]
    },
    {
     "name": "stderr",
     "output_type": "stream",
     "text": [
      " 80%|██████████████████████████████████████████████████████████████▊               | 6199/7705 [58:28<14:12,  1.77it/s]"
     ]
    },
    {
     "name": "stdout",
     "output_type": "stream",
     "text": [
      "tensor([171.7671], device='cuda:0', grad_fn=<ThAddBackward>)\n"
     ]
    },
    {
     "name": "stderr",
     "output_type": "stream",
     "text": [
      " 82%|███████████████████████████████████████████████████████████████▊              | 6299/7705 [59:24<13:15,  1.77it/s]"
     ]
    },
    {
     "name": "stdout",
     "output_type": "stream",
     "text": [
      "tensor([173.8333], device='cuda:0', grad_fn=<ThAddBackward>)\n"
     ]
    },
    {
     "name": "stderr",
     "output_type": "stream",
     "text": [
      " 83%|███████████████████████████████████████████████████████████████             | 6399/7705 [1:00:21<12:19,  1.77it/s]"
     ]
    },
    {
     "name": "stdout",
     "output_type": "stream",
     "text": [
      "tensor([178.3182], device='cuda:0', grad_fn=<ThAddBackward>)\n"
     ]
    },
    {
     "name": "stderr",
     "output_type": "stream",
     "text": [
      " 84%|████████████████████████████████████████████████████████████████            | 6499/7705 [1:01:17<11:22,  1.77it/s]"
     ]
    },
    {
     "name": "stdout",
     "output_type": "stream",
     "text": [
      "tensor([165.1570], device='cuda:0', grad_fn=<ThAddBackward>)\n"
     ]
    },
    {
     "name": "stderr",
     "output_type": "stream",
     "text": [
      " 86%|█████████████████████████████████████████████████████████████████           | 6599/7705 [1:02:14<10:25,  1.77it/s]"
     ]
    },
    {
     "name": "stdout",
     "output_type": "stream",
     "text": [
      "tensor([164.2514], device='cuda:0', grad_fn=<ThAddBackward>)\n"
     ]
    },
    {
     "name": "stderr",
     "output_type": "stream",
     "text": [
      " 87%|██████████████████████████████████████████████████████████████████          | 6699/7705 [1:03:11<09:29,  1.77it/s]"
     ]
    },
    {
     "name": "stdout",
     "output_type": "stream",
     "text": [
      "tensor([177.5059], device='cuda:0', grad_fn=<ThAddBackward>)\n"
     ]
    },
    {
     "name": "stderr",
     "output_type": "stream",
     "text": [
      " 88%|███████████████████████████████████████████████████████████████████         | 6799/7705 [1:04:07<08:32,  1.77it/s]"
     ]
    },
    {
     "name": "stdout",
     "output_type": "stream",
     "text": [
      "tensor([167.4319], device='cuda:0', grad_fn=<ThAddBackward>)\n"
     ]
    },
    {
     "name": "stderr",
     "output_type": "stream",
     "text": [
      " 90%|████████████████████████████████████████████████████████████████████        | 6899/7705 [1:05:04<07:36,  1.77it/s]"
     ]
    },
    {
     "name": "stdout",
     "output_type": "stream",
     "text": [
      "tensor([160.9613], device='cuda:0', grad_fn=<ThAddBackward>)\n"
     ]
    },
    {
     "name": "stderr",
     "output_type": "stream",
     "text": [
      " 91%|█████████████████████████████████████████████████████████████████████       | 6999/7705 [1:06:00<06:39,  1.77it/s]"
     ]
    },
    {
     "name": "stdout",
     "output_type": "stream",
     "text": [
      "tensor([167.0693], device='cuda:0', grad_fn=<ThAddBackward>)\n"
     ]
    },
    {
     "name": "stderr",
     "output_type": "stream",
     "text": [
      " 92%|██████████████████████████████████████████████████████████████████████      | 7099/7705 [1:06:57<05:42,  1.77it/s]"
     ]
    },
    {
     "name": "stdout",
     "output_type": "stream",
     "text": [
      "tensor([175.9322], device='cuda:0', grad_fn=<ThAddBackward>)\n"
     ]
    },
    {
     "name": "stderr",
     "output_type": "stream",
     "text": [
      " 93%|███████████████████████████████████████████████████████████████████████     | 7199/7705 [1:07:53<04:46,  1.77it/s]"
     ]
    },
    {
     "name": "stdout",
     "output_type": "stream",
     "text": [
      "tensor([166.7945], device='cuda:0', grad_fn=<ThAddBackward>)\n"
     ]
    },
    {
     "name": "stderr",
     "output_type": "stream",
     "text": [
      " 95%|███████████████████████████████████████████████████████████████████████▉    | 7299/7705 [1:08:50<03:49,  1.77it/s]"
     ]
    },
    {
     "name": "stdout",
     "output_type": "stream",
     "text": [
      "tensor([181.6517], device='cuda:0', grad_fn=<ThAddBackward>)\n"
     ]
    },
    {
     "name": "stderr",
     "output_type": "stream",
     "text": [
      " 96%|████████████████████████████████████████████████████████████████████████▉   | 7399/7705 [1:09:46<02:53,  1.77it/s]"
     ]
    },
    {
     "name": "stdout",
     "output_type": "stream",
     "text": [
      "tensor([154.3218], device='cuda:0', grad_fn=<ThAddBackward>)\n"
     ]
    },
    {
     "name": "stderr",
     "output_type": "stream",
     "text": [
      " 97%|█████████████████████████████████████████████████████████████████████████▉  | 7499/7705 [1:10:43<01:56,  1.77it/s]"
     ]
    },
    {
     "name": "stdout",
     "output_type": "stream",
     "text": [
      "tensor([168.2466], device='cuda:0', grad_fn=<ThAddBackward>)\n"
     ]
    },
    {
     "name": "stderr",
     "output_type": "stream",
     "text": [
      " 99%|██████████████████████████████████████████████████████████████████████████▉ | 7599/7705 [1:11:40<00:59,  1.77it/s]"
     ]
    },
    {
     "name": "stdout",
     "output_type": "stream",
     "text": [
      "tensor([160.9010], device='cuda:0', grad_fn=<ThAddBackward>)\n"
     ]
    },
    {
     "name": "stderr",
     "output_type": "stream",
     "text": [
      "100%|███████████████████████████████████████████████████████████████████████████▉| 7699/7705 [1:12:36<00:03,  1.77it/s]"
     ]
    },
    {
     "name": "stdout",
     "output_type": "stream",
     "text": [
      "tensor([171.0899], device='cuda:0', grad_fn=<ThAddBackward>)\n"
     ]
    },
    {
     "name": "stderr",
     "output_type": "stream",
     "text": [
      "7706it [1:12:40,  1.77it/s]                                                                                            \n"
     ]
    },
    {
     "name": "stdout",
     "output_type": "stream",
     "text": [
      "Epoch 0 done.\n"
     ]
    },
    {
     "name": "stderr",
     "output_type": "stream",
     "text": [
      "c:\\program files\\python36\\lib\\site-packages\\torch\\serialization.py:241: UserWarning: Couldn't retrieve source code for container of type TransformNet. It won't be checked for correctness upon loading.\n",
      "  \"type \" + obj.__name__ + \". It won't be checked \"\n",
      "c:\\program files\\python36\\lib\\site-packages\\torch\\serialization.py:241: UserWarning: Couldn't retrieve source code for container of type ResidualBlock. It won't be checked for correctness upon loading.\n",
      "  \"type \" + obj.__name__ + \". It won't be checked \"\n",
      "c:\\program files\\python36\\lib\\site-packages\\torch\\serialization.py:241: UserWarning: Couldn't retrieve source code for container of type UpsampleConvLayer. It won't be checked for correctness upon loading.\n",
      "  \"type \" + obj.__name__ + \". It won't be checked \"\n",
      "  1%|█                                                                             | 99/7705 [00:59<1:15:35,  1.68it/s]"
     ]
    },
    {
     "name": "stdout",
     "output_type": "stream",
     "text": [
      "tensor([175.2943], device='cuda:0', grad_fn=<ThAddBackward>)\n"
     ]
    },
    {
     "name": "stderr",
     "output_type": "stream",
     "text": [
      "  3%|█▉                                                                           | 199/7705 [01:55<1:12:36,  1.72it/s]"
     ]
    },
    {
     "name": "stdout",
     "output_type": "stream",
     "text": [
      "tensor([164.3603], device='cuda:0', grad_fn=<ThAddBackward>)\n"
     ]
    },
    {
     "name": "stderr",
     "output_type": "stream",
     "text": [
      "  4%|██▉                                                                          | 299/7705 [02:52<1:11:04,  1.74it/s]"
     ]
    },
    {
     "name": "stdout",
     "output_type": "stream",
     "text": [
      "tensor([176.8138], device='cuda:0', grad_fn=<ThAddBackward>)\n"
     ]
    },
    {
     "name": "stderr",
     "output_type": "stream",
     "text": [
      "  5%|███▉                                                                         | 399/7705 [03:48<1:09:45,  1.75it/s]"
     ]
    },
    {
     "name": "stdout",
     "output_type": "stream",
     "text": [
      "tensor([170.3713], device='cuda:0', grad_fn=<ThAddBackward>)\n"
     ]
    },
    {
     "name": "stderr",
     "output_type": "stream",
     "text": [
      "  6%|████▉                                                                        | 499/7705 [04:44<1:08:34,  1.75it/s]"
     ]
    },
    {
     "name": "stdout",
     "output_type": "stream",
     "text": [
      "tensor([161.7254], device='cuda:0', grad_fn=<ThAddBackward>)\n"
     ]
    },
    {
     "name": "stderr",
     "output_type": "stream",
     "text": [
      "  8%|█████▉                                                                       | 599/7705 [05:41<1:07:30,  1.75it/s]"
     ]
    },
    {
     "name": "stdout",
     "output_type": "stream",
     "text": [
      "tensor([178.1918], device='cuda:0', grad_fn=<ThAddBackward>)\n"
     ]
    },
    {
     "name": "stderr",
     "output_type": "stream",
     "text": [
      "  9%|██████▉                                                                      | 699/7705 [06:37<1:06:27,  1.76it/s]"
     ]
    },
    {
     "name": "stdout",
     "output_type": "stream",
     "text": [
      "tensor([159.0438], device='cuda:0', grad_fn=<ThAddBackward>)\n"
     ]
    },
    {
     "name": "stderr",
     "output_type": "stream",
     "text": [
      " 10%|███████▉                                                                     | 799/7705 [07:34<1:05:25,  1.76it/s]"
     ]
    },
    {
     "name": "stdout",
     "output_type": "stream",
     "text": [
      "tensor([160.1157], device='cuda:0', grad_fn=<ThAddBackward>)\n"
     ]
    },
    {
     "name": "stderr",
     "output_type": "stream",
     "text": [
      " 12%|████████▉                                                                    | 899/7705 [08:30<1:04:27,  1.76it/s]"
     ]
    },
    {
     "name": "stdout",
     "output_type": "stream",
     "text": [
      "tensor([160.3381], device='cuda:0', grad_fn=<ThAddBackward>)\n"
     ]
    },
    {
     "name": "stderr",
     "output_type": "stream",
     "text": [
      " 13%|█████████▉                                                                   | 999/7705 [09:27<1:03:29,  1.76it/s]"
     ]
    },
    {
     "name": "stdout",
     "output_type": "stream",
     "text": [
      "tensor([167.5883], device='cuda:0', grad_fn=<ThAddBackward>)\n"
     ]
    },
    {
     "name": "stderr",
     "output_type": "stream",
     "text": [
      " 14%|██████████▊                                                                 | 1099/7705 [10:23<1:02:30,  1.76it/s]"
     ]
    },
    {
     "name": "stdout",
     "output_type": "stream",
     "text": [
      "tensor([160.9833], device='cuda:0', grad_fn=<ThAddBackward>)\n"
     ]
    },
    {
     "name": "stderr",
     "output_type": "stream",
     "text": [
      " 16%|███████████▊                                                                | 1199/7705 [11:20<1:01:32,  1.76it/s]"
     ]
    },
    {
     "name": "stdout",
     "output_type": "stream",
     "text": [
      "tensor([160.4902], device='cuda:0', grad_fn=<ThAddBackward>)\n"
     ]
    },
    {
     "name": "stderr",
     "output_type": "stream",
     "text": [
      " 17%|████████████▊                                                               | 1299/7705 [12:17<1:00:35,  1.76it/s]"
     ]
    },
    {
     "name": "stdout",
     "output_type": "stream",
     "text": [
      "tensor([161.3430], device='cuda:0', grad_fn=<ThAddBackward>)\n"
     ]
    },
    {
     "name": "stderr",
     "output_type": "stream",
     "text": [
      " 18%|██████████████▏                                                               | 1399/7705 [13:13<59:36,  1.76it/s]"
     ]
    },
    {
     "name": "stdout",
     "output_type": "stream",
     "text": [
      "tensor([161.6697], device='cuda:0', grad_fn=<ThAddBackward>)\n"
     ]
    },
    {
     "name": "stderr",
     "output_type": "stream",
     "text": [
      " 19%|███████████████▏                                                              | 1499/7705 [14:10<58:39,  1.76it/s]"
     ]
    },
    {
     "name": "stdout",
     "output_type": "stream",
     "text": [
      "tensor([164.7883], device='cuda:0', grad_fn=<ThAddBackward>)\n"
     ]
    },
    {
     "name": "stderr",
     "output_type": "stream",
     "text": [
      " 21%|████████████████▏                                                             | 1599/7705 [15:06<57:43,  1.76it/s]"
     ]
    },
    {
     "name": "stdout",
     "output_type": "stream",
     "text": [
      "tensor([166.5111], device='cuda:0', grad_fn=<ThAddBackward>)\n"
     ]
    },
    {
     "name": "stderr",
     "output_type": "stream",
     "text": [
      " 22%|█████████████████▏                                                            | 1699/7705 [16:03<56:46,  1.76it/s]"
     ]
    },
    {
     "name": "stdout",
     "output_type": "stream",
     "text": [
      "tensor([164.6689], device='cuda:0', grad_fn=<ThAddBackward>)\n"
     ]
    },
    {
     "name": "stderr",
     "output_type": "stream",
     "text": [
      " 23%|██████████████████▏                                                           | 1799/7705 [17:00<55:49,  1.76it/s]"
     ]
    },
    {
     "name": "stdout",
     "output_type": "stream",
     "text": [
      "tensor([171.8845], device='cuda:0', grad_fn=<ThAddBackward>)\n"
     ]
    },
    {
     "name": "stderr",
     "output_type": "stream",
     "text": [
      " 25%|███████████████████▏                                                          | 1899/7705 [17:56<54:52,  1.76it/s]"
     ]
    },
    {
     "name": "stdout",
     "output_type": "stream",
     "text": [
      "tensor([163.3880], device='cuda:0', grad_fn=<ThAddBackward>)\n"
     ]
    },
    {
     "name": "stderr",
     "output_type": "stream",
     "text": [
      " 26%|████████████████████▏                                                         | 1999/7705 [18:53<53:55,  1.76it/s]"
     ]
    },
    {
     "name": "stdout",
     "output_type": "stream",
     "text": [
      "tensor([155.8665], device='cuda:0', grad_fn=<ThAddBackward>)\n"
     ]
    },
    {
     "name": "stderr",
     "output_type": "stream",
     "text": [
      " 27%|█████████████████████▏                                                        | 2099/7705 [19:50<52:59,  1.76it/s]"
     ]
    },
    {
     "name": "stdout",
     "output_type": "stream",
     "text": [
      "tensor([164.4337], device='cuda:0', grad_fn=<ThAddBackward>)\n"
     ]
    },
    {
     "name": "stderr",
     "output_type": "stream",
     "text": [
      " 29%|██████████████████████▎                                                       | 2199/7705 [20:47<52:03,  1.76it/s]"
     ]
    },
    {
     "name": "stdout",
     "output_type": "stream",
     "text": [
      "tensor([167.4765], device='cuda:0', grad_fn=<ThAddBackward>)\n"
     ]
    },
    {
     "name": "stderr",
     "output_type": "stream",
     "text": [
      " 30%|███████████████████████▎                                                      | 2299/7705 [21:43<51:05,  1.76it/s]"
     ]
    },
    {
     "name": "stdout",
     "output_type": "stream",
     "text": [
      "tensor([153.8365], device='cuda:0', grad_fn=<ThAddBackward>)\n"
     ]
    },
    {
     "name": "stderr",
     "output_type": "stream",
     "text": [
      " 31%|████████████████████████▎                                                     | 2399/7705 [22:40<50:08,  1.76it/s]"
     ]
    },
    {
     "name": "stdout",
     "output_type": "stream",
     "text": [
      "tensor([165.0533], device='cuda:0', grad_fn=<ThAddBackward>)\n"
     ]
    },
    {
     "name": "stderr",
     "output_type": "stream",
     "text": [
      " 32%|█████████████████████████▎                                                    | 2499/7705 [23:36<49:11,  1.76it/s]"
     ]
    },
    {
     "name": "stdout",
     "output_type": "stream",
     "text": [
      "tensor([171.1606], device='cuda:0', grad_fn=<ThAddBackward>)\n"
     ]
    },
    {
     "name": "stderr",
     "output_type": "stream",
     "text": [
      " 34%|██████████████████████████▎                                                   | 2599/7705 [24:33<48:14,  1.76it/s]"
     ]
    },
    {
     "name": "stdout",
     "output_type": "stream",
     "text": [
      "tensor([184.7880], device='cuda:0', grad_fn=<ThAddBackward>)\n"
     ]
    },
    {
     "name": "stderr",
     "output_type": "stream",
     "text": [
      " 35%|███████████████████████████▎                                                  | 2699/7705 [25:29<47:17,  1.76it/s]"
     ]
    },
    {
     "name": "stdout",
     "output_type": "stream",
     "text": [
      "tensor([168.7137], device='cuda:0', grad_fn=<ThAddBackward>)\n"
     ]
    },
    {
     "name": "stderr",
     "output_type": "stream",
     "text": [
      " 36%|████████████████████████████▎                                                 | 2799/7705 [26:26<46:20,  1.76it/s]"
     ]
    },
    {
     "name": "stdout",
     "output_type": "stream",
     "text": [
      "tensor([158.3310], device='cuda:0', grad_fn=<ThAddBackward>)\n"
     ]
    },
    {
     "name": "stderr",
     "output_type": "stream",
     "text": [
      " 38%|█████████████████████████████▎                                                | 2899/7705 [27:23<45:24,  1.76it/s]"
     ]
    },
    {
     "name": "stdout",
     "output_type": "stream",
     "text": [
      "tensor([173.4245], device='cuda:0', grad_fn=<ThAddBackward>)\n"
     ]
    },
    {
     "name": "stderr",
     "output_type": "stream",
     "text": [
      " 39%|██████████████████████████████▎                                               | 2999/7705 [28:19<44:27,  1.76it/s]"
     ]
    },
    {
     "name": "stdout",
     "output_type": "stream",
     "text": [
      "tensor([151.6346], device='cuda:0', grad_fn=<ThAddBackward>)\n"
     ]
    },
    {
     "name": "stderr",
     "output_type": "stream",
     "text": [
      " 40%|███████████████████████████████▎                                              | 3099/7705 [29:16<43:30,  1.76it/s]"
     ]
    },
    {
     "name": "stdout",
     "output_type": "stream",
     "text": [
      "tensor([157.6894], device='cuda:0', grad_fn=<ThAddBackward>)\n"
     ]
    },
    {
     "name": "stderr",
     "output_type": "stream",
     "text": [
      " 42%|████████████████████████████████▍                                             | 3199/7705 [30:13<42:33,  1.76it/s]"
     ]
    },
    {
     "name": "stdout",
     "output_type": "stream",
     "text": [
      "tensor([157.5737], device='cuda:0', grad_fn=<ThAddBackward>)\n"
     ]
    },
    {
     "name": "stderr",
     "output_type": "stream",
     "text": [
      " 43%|█████████████████████████████████▍                                            | 3299/7705 [31:09<41:36,  1.76it/s]"
     ]
    },
    {
     "name": "stdout",
     "output_type": "stream",
     "text": [
      "tensor([158.5762], device='cuda:0', grad_fn=<ThAddBackward>)\n"
     ]
    },
    {
     "name": "stderr",
     "output_type": "stream",
     "text": [
      " 44%|██████████████████████████████████▍                                           | 3399/7705 [32:06<40:40,  1.76it/s]"
     ]
    },
    {
     "name": "stdout",
     "output_type": "stream",
     "text": [
      "tensor([186.6084], device='cuda:0', grad_fn=<ThAddBackward>)\n"
     ]
    },
    {
     "name": "stderr",
     "output_type": "stream",
     "text": [
      " 45%|███████████████████████████████████▍                                          | 3499/7705 [33:02<39:43,  1.76it/s]"
     ]
    },
    {
     "name": "stdout",
     "output_type": "stream",
     "text": [
      "tensor([153.8432], device='cuda:0', grad_fn=<ThAddBackward>)\n"
     ]
    },
    {
     "name": "stderr",
     "output_type": "stream",
     "text": [
      " 47%|████████████████████████████████████▍                                         | 3599/7705 [33:59<38:46,  1.76it/s]"
     ]
    },
    {
     "name": "stdout",
     "output_type": "stream",
     "text": [
      "tensor([163.5670], device='cuda:0', grad_fn=<ThAddBackward>)\n"
     ]
    },
    {
     "name": "stderr",
     "output_type": "stream",
     "text": [
      " 48%|█████████████████████████████████████▍                                        | 3699/7705 [34:56<37:50,  1.76it/s]"
     ]
    },
    {
     "name": "stdout",
     "output_type": "stream",
     "text": [
      "tensor([174.6916], device='cuda:0', grad_fn=<ThAddBackward>)\n"
     ]
    },
    {
     "name": "stderr",
     "output_type": "stream",
     "text": [
      " 49%|██████████████████████████████████████▍                                       | 3799/7705 [35:53<36:54,  1.76it/s]"
     ]
    },
    {
     "name": "stdout",
     "output_type": "stream",
     "text": [
      "tensor([162.3958], device='cuda:0', grad_fn=<ThAddBackward>)\n"
     ]
    },
    {
     "name": "stderr",
     "output_type": "stream",
     "text": [
      " 50%|██████████████████████████████████████▊                                       | 3838/7705 [36:15<36:32,  1.76it/s]"
     ]
    },
    {
     "ename": "KeyboardInterrupt",
     "evalue": "",
     "output_type": "error",
     "traceback": [
      "\u001b[1;31m---------------------------------------------------------------------------\u001b[0m",
      "\u001b[1;31mKeyboardInterrupt\u001b[0m                         Traceback (most recent call last)",
      "\u001b[1;32m<ipython-input-13-678b3dcec83f>\u001b[0m in \u001b[0;36m<module>\u001b[1;34m()\u001b[0m\n\u001b[0;32m     27\u001b[0m         \u001b[0mloss\u001b[0m \u001b[1;33m=\u001b[0m \u001b[0mloss_function\u001b[0m\u001b[1;33m(\u001b[0m\u001b[0minputs\u001b[0m\u001b[1;33m,\u001b[0m \u001b[0moutput\u001b[0m\u001b[1;33m,\u001b[0m \u001b[0mstyle_gram1\u001b[0m\u001b[1;33m,\u001b[0m \u001b[0mstyle_gram2\u001b[0m\u001b[1;33m,\u001b[0m \u001b[0mstyle_gram3\u001b[0m\u001b[1;33m,\u001b[0m \u001b[0mstyle_gram4\u001b[0m\u001b[1;33m)\u001b[0m\u001b[1;33m\u001b[0m\u001b[0m\n\u001b[0;32m     28\u001b[0m         \u001b[0mloss\u001b[0m\u001b[1;33m.\u001b[0m\u001b[0mbackward\u001b[0m\u001b[1;33m(\u001b[0m\u001b[0mretain_graph\u001b[0m\u001b[1;33m=\u001b[0m\u001b[1;32mTrue\u001b[0m\u001b[1;33m)\u001b[0m\u001b[1;33m\u001b[0m\u001b[0m\n\u001b[1;32m---> 29\u001b[1;33m         \u001b[0moptimizer\u001b[0m\u001b[1;33m.\u001b[0m\u001b[0mstep\u001b[0m\u001b[1;33m(\u001b[0m\u001b[1;33m)\u001b[0m\u001b[1;33m\u001b[0m\u001b[0m\n\u001b[0m\u001b[0;32m     30\u001b[0m         \u001b[1;32mif\u001b[0m \u001b[1;33m(\u001b[0m\u001b[0mi\u001b[0m\u001b[1;33m+\u001b[0m\u001b[1;36m1\u001b[0m\u001b[1;33m)\u001b[0m\u001b[1;33m%\u001b[0m\u001b[1;36m100\u001b[0m \u001b[1;33m==\u001b[0m \u001b[1;36m0\u001b[0m\u001b[1;33m:\u001b[0m\u001b[1;33m\u001b[0m\u001b[0m\n\u001b[0;32m     31\u001b[0m             \u001b[0mprint\u001b[0m\u001b[1;33m(\u001b[0m\u001b[0mloss\u001b[0m\u001b[1;33m)\u001b[0m\u001b[1;33m\u001b[0m\u001b[0m\n",
      "\u001b[1;32mc:\\program files\\python36\\lib\\site-packages\\torch\\optim\\adam.py\u001b[0m in \u001b[0;36mstep\u001b[1;34m(self, closure)\u001b[0m\n\u001b[0;32m     91\u001b[0m                 \u001b[1;31m# Decay the first and second moment running average coefficient\u001b[0m\u001b[1;33m\u001b[0m\u001b[1;33m\u001b[0m\u001b[0m\n\u001b[0;32m     92\u001b[0m                 \u001b[0mexp_avg\u001b[0m\u001b[1;33m.\u001b[0m\u001b[0mmul_\u001b[0m\u001b[1;33m(\u001b[0m\u001b[0mbeta1\u001b[0m\u001b[1;33m)\u001b[0m\u001b[1;33m.\u001b[0m\u001b[0madd_\u001b[0m\u001b[1;33m(\u001b[0m\u001b[1;36m1\u001b[0m \u001b[1;33m-\u001b[0m \u001b[0mbeta1\u001b[0m\u001b[1;33m,\u001b[0m \u001b[0mgrad\u001b[0m\u001b[1;33m)\u001b[0m\u001b[1;33m\u001b[0m\u001b[0m\n\u001b[1;32m---> 93\u001b[1;33m                 \u001b[0mexp_avg_sq\u001b[0m\u001b[1;33m.\u001b[0m\u001b[0mmul_\u001b[0m\u001b[1;33m(\u001b[0m\u001b[0mbeta2\u001b[0m\u001b[1;33m)\u001b[0m\u001b[1;33m.\u001b[0m\u001b[0maddcmul_\u001b[0m\u001b[1;33m(\u001b[0m\u001b[1;36m1\u001b[0m \u001b[1;33m-\u001b[0m \u001b[0mbeta2\u001b[0m\u001b[1;33m,\u001b[0m \u001b[0mgrad\u001b[0m\u001b[1;33m,\u001b[0m \u001b[0mgrad\u001b[0m\u001b[1;33m)\u001b[0m\u001b[1;33m\u001b[0m\u001b[0m\n\u001b[0m\u001b[0;32m     94\u001b[0m                 \u001b[1;32mif\u001b[0m \u001b[0mamsgrad\u001b[0m\u001b[1;33m:\u001b[0m\u001b[1;33m\u001b[0m\u001b[0m\n\u001b[0;32m     95\u001b[0m                     \u001b[1;31m# Maintains the maximum of all 2nd moment running avg. till now\u001b[0m\u001b[1;33m\u001b[0m\u001b[1;33m\u001b[0m\u001b[0m\n",
      "\u001b[1;31mKeyboardInterrupt\u001b[0m: "
     ]
    }
   ],
   "source": [
    "from tqdm import tqdm\n",
    "from decimal import Decimal\n",
    "\n",
    "batch_size=16\n",
    "num_samples = len(coco.samples)\n",
    "num_iter = num_samples/batch_size\n",
    "net = TransformNet()\n",
    "style_gram1, style_gram2, style_gram3, style_gram4 = get_style_grams('jonesy.jpg')\n",
    "testimage = VGGRead('Cat03.jpg')\n",
    "n_epochs = 2\n",
    "net = net.cuda()\n",
    "dataset_loader = torch.utils.data.DataLoader(coco,\n",
    "                                             batch_size=batch_size, shuffle=False, pin_memory=True, num_workers=8)\n",
    "\n",
    "optimizer = torch.optim.Adam(net.parameters(), amsgrad=True)\n",
    "for epoch in range(n_epochs):\n",
    "    net.train()\n",
    "    \n",
    "    for i, data in tqdm(enumerate(dataset_loader), total=int(num_iter)):\n",
    "    # get the inputs\n",
    "    \n",
    "        inputs, _ = data\n",
    "        inputs = inputs.cuda()\n",
    "        inputs = inputs.mul(255)\n",
    "        optimizer.zero_grad()\n",
    "        output = net(inputs)\n",
    "        loss = loss_function(inputs, output, style_gram1, style_gram2, style_gram3, style_gram4)\n",
    "        loss.backward(retain_graph=True)\n",
    "        optimizer.step()\n",
    "        if (i+1)%100 == 0:\n",
    "            print(loss)\n",
    "    print(f\"Epoch {epoch} done.\")\n",
    "    torch.save(net, f'savedpytorchnet_epoch{epoch}_loss{loss.data[0]}.pt')"
   ]
  },
  {
   "cell_type": "code",
   "execution_count": 62,
   "metadata": {},
   "outputs": [
    {
     "name": "stderr",
     "output_type": "stream",
     "text": [
      "c:\\program files\\python36\\lib\\site-packages\\torch\\nn\\functional.py:995: UserWarning: nn.functional.tanh is deprecated. Use torch.tanh instead.\n",
      "  warnings.warn(\"nn.functional.tanh is deprecated. Use torch.tanh instead.\")\n"
     ]
    }
   ],
   "source": [
    "net.eval()\n",
    "testimage = VGGRead('salvini_foto.jpg', s1=1024, s2=1024, normalizer=False)*255\n",
    "res = net(testimage)"
   ]
  },
  {
   "cell_type": "code",
   "execution_count": 63,
   "metadata": {},
   "outputs": [],
   "source": [
    "#res = res-torch.min(res)\n",
    "#res = res/torch.max(res)\n",
    "#res = res*255"
   ]
  },
  {
   "cell_type": "code",
   "execution_count": 64,
   "metadata": {},
   "outputs": [],
   "source": [
    "resimg = np.array(res[0].permute(1, 2, 0).detach())"
   ]
  },
  {
   "cell_type": "code",
   "execution_count": 65,
   "metadata": {},
   "outputs": [],
   "source": [
    "resimg = resimg.astype('uint8')"
   ]
  },
  {
   "cell_type": "code",
   "execution_count": 66,
   "metadata": {},
   "outputs": [],
   "source": [
    "resimg = PIL.Image.fromarray(resimg)"
   ]
  },
  {
   "cell_type": "code",
   "execution_count": 67,
   "metadata": {},
   "outputs": [
    {
     "data": {
      "image/png": "[encoded data removed]",
      "text/plain": [
       "<PIL.Image.Image image mode=RGB size=256x256 at 0x188E75C6278>"
      ]
     },
     "execution_count": 67,
     "metadata": {},
     "output_type": "execute_result"
    }
   ],
   "source": [
    "resimg"
   ]
  },
  {
   "cell_type": "code",
   "execution_count": null,
   "metadata": {},
   "outputs": [],
   "source": []
  },
  {
   "cell_type": "code",
   "execution_count": null,
   "metadata": {},
   "outputs": [],
   "source": [
    "real = transforms.functional.resize(PIL.Image.open('ronaldo.jpg'), (256, 256))"
   ]
  },
  {
   "cell_type": "code",
   "execution_count": null,
   "metadata": {},
   "outputs": [],
   "source": [
    "np.array(resimg)[0][:5]"
   ]
  },
  {
   "cell_type": "code",
   "execution_count": null,
   "metadata": {},
   "outputs": [],
   "source": [
    "np.linalg.norm(np.array(real) - np.array(resimg))"
   ]
  },
  {
   "cell_type": "code",
   "execution_count": null,
   "metadata": {},
   "outputs": [],
   "source": [
    "#PIL.Image.open('ronaldo.jpg')"
   ]
  },
  {
   "cell_type": "code",
   "execution_count": null,
   "metadata": {},
   "outputs": [],
   "source": [
    "nets = torch.load('savedpytorchnet_epoch2_loss59946880.0.pt')"
   ]
  },
  {
   "cell_type": "code",
   "execution_count": null,
   "metadata": {},
   "outputs": [],
   "source": [
    "res = nets(testimage)"
   ]
  },
  {
   "cell_type": "code",
   "execution_count": null,
   "metadata": {},
   "outputs": [],
   "source": [
    "prova = torch.randn(1, 32, 200, 200)\n",
    "res = (torch.tanh(nn.Conv2d(32, 3, 9, padding=4)(prova))+1)*127.5"
   ]
  },
  {
   "cell_type": "code",
   "execution_count": null,
   "metadata": {},
   "outputs": [],
   "source": [
    "net = torch.load('savedpytorchnet_epoch1_loss61.405765533447266.pt')"
   ]
  },
  {
   "cell_type": "code",
   "execution_count": null,
   "metadata": {},
   "outputs": [],
   "source": []
  }
 ],
 "metadata": {
  "kernelspec": {
   "display_name": "Python 3",
   "language": "python",
   "name": "python3"
  },
  "language_info": {
   "codemirror_mode": {
    "name": "ipython",
    "version": 3
   },
   "file_extension": ".py",
   "mimetype": "text/x-python",
   "name": "python",
   "nbconvert_exporter": "python",
   "pygments_lexer": "ipython3",
   "version": "3.6.2"
  }
 },
 "nbformat": 4,
 "nbformat_minor": 2
}
