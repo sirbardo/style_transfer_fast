{
 "cells": [
  {
   "cell_type": "code",
   "execution_count": 1,
   "metadata": {},
   "outputs": [
    {
     "name": "stderr",
     "output_type": "stream",
     "text": [
      "Using TensorFlow backend.\n"
     ]
    }
   ],
   "source": [
    "import keras\n",
    "import numpy as np\n",
    "from keras import activations"
   ]
  },
  {
   "cell_type": "code",
   "execution_count": 2,
   "metadata": {},
   "outputs": [],
   "source": [
    "from keras import layers\n",
    "from keras.layers import BatchNormalization, Convolution2D, Input, merge, Cropping2D\n",
    "from keras.layers.core import Activation, Layer\n",
    "\n",
    "def conv_block(feat_maps_out, prev):\n",
    "    prev = Conv2D(feat_maps_out, 3, padding='valid')(prev)\n",
    "    prev = BatchNormalization()(prev)\n",
    "    prev = Activation('relu')(prev)\n",
    "    prev = Conv2D(feat_maps_out, 3, padding='valid')(prev) \n",
    "    prev = BatchNormalization()(prev)\n",
    "    return prev\n",
    "\n",
    "def Residual(feat_maps_in, feat_maps_out, prev_layer):\n",
    "    '''\n",
    "    A customizable residual unit with convolutional and shortcut blocks\n",
    "    Args:\n",
    "      feat_maps_in: number of channels/filters coming in, from input or previous layer\n",
    "      feat_maps_out: how many output channels/filters this block will produce\n",
    "      prev_layer: the previous layer\n",
    "    '''\n",
    "\n",
    "    skip = Cropping2D(cropping=((2,2),(2,2)))(prev_layer)\n",
    "    \n",
    "    conv = conv_block(feat_maps_out, prev_layer)\n",
    "\n",
    "    print('Residual block mapping '+str(feat_maps_in)+' channels to '+str(feat_maps_out)+' channels built')\n",
    "\n",
    "    return layers.add([skip, conv]) # the residual connection\n",
    "\n"
   ]
  },
  {
   "cell_type": "code",
   "execution_count": 3,
   "metadata": {},
   "outputs": [],
   "source": [
    "from keras.models import Input, Model\n",
    "from keras.layers import Conv2D\n",
    "from keras.layers import Deconv2D"
   ]
  },
  {
   "cell_type": "code",
   "execution_count": 4,
   "metadata": {},
   "outputs": [],
   "source": [
    "import tensorflow as tf\n",
    "from keras.engine.topology import Layer\n",
    "from keras.engine import InputSpec\n",
    "from keras.layers import ZeroPadding2D, Layer, InputSpec\n",
    "from keras.regularizers import Regularizer\n",
    "import keras.backend as K \n",
    "# Extending the ZeroPadding2D layer to do reflection padding instead.\n",
    "class ReflectionPadding2D(Layer):\n",
    "    def __init__(self, padding=(1, 1), dim_ordering='default', **kwargs):\n",
    "        super(ReflectionPadding2D, self).__init__(**kwargs)\n",
    "\n",
    "        if dim_ordering == 'default':\n",
    "            dim_ordering = K.image_dim_ordering()\n",
    "\n",
    "        self.padding = padding\n",
    "        if isinstance(padding, dict):\n",
    "            if set(padding.keys()) <= {'top_pad', 'bottom_pad', 'left_pad', 'right_pad'}:\n",
    "                self.top_pad = padding.get('top_pad', 0)\n",
    "                self.bottom_pad = padding.get('bottom_pad', 0)\n",
    "                self.left_pad = padding.get('left_pad', 0)\n",
    "                self.right_pad = padding.get('right_pad', 0)\n",
    "            else:\n",
    "                raise ValueError('Unexpected key found in `padding` dictionary. '\n",
    "                                 'Keys have to be in {\"top_pad\", \"bottom_pad\", '\n",
    "                                 '\"left_pad\", \"right_pad\"}.'\n",
    "                                 'Found: ' + str(padding.keys()))\n",
    "        else:\n",
    "            padding = tuple(padding)\n",
    "            if len(padding) == 2:\n",
    "                self.top_pad = padding[0]\n",
    "                self.bottom_pad = padding[0]\n",
    "                self.left_pad = padding[1]\n",
    "                self.right_pad = padding[1]\n",
    "            elif len(padding) == 4:\n",
    "                self.top_pad = padding[0]\n",
    "                self.bottom_pad = padding[1]\n",
    "                self.left_pad = padding[2]\n",
    "                self.right_pad = padding[3]\n",
    "            else:\n",
    "                raise TypeError('`padding` should be tuple of int '\n",
    "                                'of length 2 or 4, or dict. '\n",
    "                                'Found: ' + str(padding))\n",
    "\n",
    "        if dim_ordering not in {'tf'}:\n",
    "            raise ValueError('dim_ordering must be in {tf}.')\n",
    "        self.dim_ordering = dim_ordering\n",
    "        self.input_spec = [InputSpec(ndim=4)] \n",
    "\n",
    "\n",
    "    def call(self, x, mask=None):\n",
    "        top_pad=self.top_pad\n",
    "        bottom_pad=self.bottom_pad\n",
    "        left_pad=self.left_pad\n",
    "        right_pad=self.right_pad        \n",
    "        \n",
    "        paddings = [[0,0],[left_pad,right_pad],[top_pad,bottom_pad],[0,0]]\n",
    "\n",
    "        \n",
    "        return tf.pad(x,paddings, mode='REFLECT', name=None)\n",
    "\n",
    "    def compute_output_shape(self,input_shape):\n",
    "        if self.dim_ordering == 'tf':\n",
    "            rows = input_shape[1] + self.top_pad + self.bottom_pad if input_shape[1] is not None else None\n",
    "            cols = input_shape[2] + self.left_pad + self.right_pad if input_shape[2] is not None else None\n",
    "\n",
    "            return (input_shape[0],\n",
    "                    rows,\n",
    "                    cols,\n",
    "                    input_shape[3])\n",
    "        else:\n",
    "            raise ValueError('Invalid dim_ordering:', self.dim_ordering)\n",
    "            \n",
    "    def get_config(self):\n",
    "        config = {'padding': self.padding}\n",
    "        base_config = super(ReflectionPadding2D, self).get_config()\n",
    "        return dict(list(base_config.items()) + list(config.items()))     \n",
    "    \n",
    "\n",
    "class Denormalize(Layer):\n",
    "    '''\n",
    "    Custom layer to denormalize the final Convolution layer activations (tanh)\n",
    "    Since tanh scales the output to the range (-1, 1), we add 1 to bring it to the\n",
    "    range (0, 2). We then multiply it by 127.5 to scale the values to the range (0, 255)\n",
    "    '''\n",
    "\n",
    "    def __init__(self, **kwargs):\n",
    "        super(Denormalize, self).__init__(**kwargs)\n",
    "\n",
    "    def build(self, input_shape):\n",
    "        pass\n",
    "\n",
    "    def call(self, x, mask=None):\n",
    "        '''\n",
    "        Scales the tanh output activations from previous layer (-1, 1) to the\n",
    "        range (0, 255)\n",
    "        '''\n",
    "\n",
    "        return (x + 1) * 127.5\n",
    "\n",
    "    def compute_output_shape(self,input_shape):\n",
    "        return input_shape\n",
    "\n",
    "class TVRegularizer(Regularizer):\n",
    "    \"\"\" Enforces smoothness in image output. \"\"\"\n",
    "\n",
    "    def __init__(self, weight=1.0):\n",
    "        self.__name__ = 'TVRegularizer'\n",
    "        self.weight = weight\n",
    "        self.uses_learning_phase = False\n",
    "        super(TVRegularizer, self).__init__()\n",
    "\n",
    "    def __call__(self, x):\n",
    "        assert K.ndim(x) == 4\n",
    "        x_out = x\n",
    "        \n",
    "        shape = K.shape(x_out)\n",
    "        img_width, img_height,channel = (shape[1],shape[2], shape[3])\n",
    "        size = img_width * img_height * channel \n",
    "        if K.image_dim_ordering() == 'th':\n",
    "            a = K.square(x_out[:, :, :img_width - 1, :img_height - 1] - x_out[:, :, 1:, :img_height - 1])\n",
    "            b = K.square(x_out[:, :, :img_width - 1, :img_height - 1] - x_out[:, :, :img_width - 1, 1:])\n",
    "        else:\n",
    "            a = K.square(x_out[:, :img_width - 1, :img_height - 1, :] - x_out[:, 1:, :img_height - 1, :])\n",
    "            b = K.square(x_out[:, :img_width - 1, :img_height - 1, :] - x_out[:, :img_width - 1, 1:, :])\n",
    "        loss = self.weight * K.sum(K.pow(a + b, 1.25)) \n",
    "        return loss\n",
    "    \n",
    "class VGGNormalize(Layer):\n",
    "    '''\n",
    "    Custom layer to subtract the outputs of previous layer by 120,\n",
    "    to normalize the inputs to the VGG network.\n",
    "    '''\n",
    "\n",
    "    def __init__(self, **kwargs):\n",
    "        super(VGGNormalize, self).__init__(**kwargs)\n",
    "\n",
    "    def build(self, input_shape):\n",
    "        pass\n",
    "\n",
    "    def call(self, x, mask=None):\n",
    "        # No exact substitute for set_subtensor in tensorflow\n",
    "        # So we subtract an approximate value       \n",
    "        \n",
    "        # 'RGB'->'BGR'\n",
    "        x = x[:, :, :, ::-1]       \n",
    "        x -= 120\n",
    "        #img_util.preprocess_image(style_image_path, img_width, img_height)\n",
    "        return x\n",
    "   \n",
    "\n",
    "    def compute_output_shape(self,input_shape):\n",
    "        return input_shape\n",
    "\n"
   ]
  },
  {
   "cell_type": "code",
   "execution_count": 5,
   "metadata": {},
   "outputs": [
    {
     "name": "stdout",
     "output_type": "stream",
     "text": [
      "Residual block mapping 128 channels to 128 channels built\n",
      "Residual block mapping 128 channels to 128 channels built\n",
      "Residual block mapping 128 channels to 128 channels built\n",
      "Residual block mapping 128 channels to 128 channels built\n",
      "Residual block mapping 128 channels to 128 channels built\n"
     ]
    }
   ],
   "source": [
    "\"\"\"\n",
    "In this cell I define, functionally, the \"image transformation\" network from jc johnson's and li fei fei paper.\n",
    "\"\"\"\n",
    "\n",
    "inputs = Input(shape=[256, 256, 3])\n",
    "o = ReflectionPadding2D(padding=(40,40))(inputs) #TODO: Check if the reflection padding is done as the paper\n",
    "o = Conv2D(32, (9, 9), strides=(1,1), padding='same', activation='relu')(o)\n",
    "o = BatchNormalization()(o)\n",
    "o = Conv2D(64, (3, 3), strides=(2,2), padding='same', activation='relu')(o)\n",
    "o = BatchNormalization()(o)\n",
    "o = Conv2D(128, (3, 3), strides=(2,2), padding='same', activation='relu')(o)\n",
    "o = Residual(128, 128, o)\n",
    "o = Residual(128, 128, o)\n",
    "o = Residual(128, 128, o)\n",
    "o = Residual(128, 128, o)\n",
    "o = Residual(128, 128, o)\n",
    "o = Deconv2D(64, (3, 3), strides=2, padding='same', activation='relu')(o)\n",
    "o = BatchNormalization()(o)\n",
    "o = Deconv2D(32, (3, 3), strides=2, padding='same', activation='relu')(o) #TODO: check if the output of this layer is the same as the fractional stride conv\n",
    "o = BatchNormalization()(o)\n",
    "o = Conv2D(3, (9, 9), strides=1, activation='tanh', padding='same', activity_regularizer=TVRegularizer())(o)\n",
    "o = Denormalize()(o)\n",
    "\n",
    "model_style_transfer = Model(inputs=inputs, outputs=o)\n"
   ]
  },
  {
   "cell_type": "code",
   "execution_count": 6,
   "metadata": {},
   "outputs": [],
   "source": [
    "from keras.applications import VGG16"
   ]
  },
  {
   "cell_type": "code",
   "execution_count": 7,
   "metadata": {},
   "outputs": [
    {
     "name": "stdout",
     "output_type": "stream",
     "text": [
      "__________________________________________________________________________________________________\n",
      "Layer (type)                    Output Shape         Param #     Connected to                     \n",
      "==================================================================================================\n",
      "input_1 (InputLayer)            (None, 256, 256, 3)  0                                            \n",
      "__________________________________________________________________________________________________\n",
      "reflection_padding2d_1 (Reflect (None, 336, 336, 3)  0           input_1[0][0]                    \n",
      "__________________________________________________________________________________________________\n",
      "conv2d_1 (Conv2D)               (None, 336, 336, 32) 7808        reflection_padding2d_1[0][0]     \n",
      "__________________________________________________________________________________________________\n",
      "batch_normalization_1 (BatchNor (None, 336, 336, 32) 128         conv2d_1[0][0]                   \n",
      "__________________________________________________________________________________________________\n",
      "conv2d_2 (Conv2D)               (None, 168, 168, 64) 18496       batch_normalization_1[0][0]      \n",
      "__________________________________________________________________________________________________\n",
      "batch_normalization_2 (BatchNor (None, 168, 168, 64) 256         conv2d_2[0][0]                   \n",
      "__________________________________________________________________________________________________\n",
      "conv2d_3 (Conv2D)               (None, 84, 84, 128)  73856       batch_normalization_2[0][0]      \n",
      "__________________________________________________________________________________________________\n",
      "conv2d_4 (Conv2D)               (None, 82, 82, 128)  147584      conv2d_3[0][0]                   \n",
      "__________________________________________________________________________________________________\n",
      "batch_normalization_3 (BatchNor (None, 82, 82, 128)  512         conv2d_4[0][0]                   \n",
      "__________________________________________________________________________________________________\n",
      "activation_1 (Activation)       (None, 82, 82, 128)  0           batch_normalization_3[0][0]      \n",
      "__________________________________________________________________________________________________\n",
      "conv2d_5 (Conv2D)               (None, 80, 80, 128)  147584      activation_1[0][0]               \n",
      "__________________________________________________________________________________________________\n",
      "cropping2d_1 (Cropping2D)       (None, 80, 80, 128)  0           conv2d_3[0][0]                   \n",
      "__________________________________________________________________________________________________\n",
      "batch_normalization_4 (BatchNor (None, 80, 80, 128)  512         conv2d_5[0][0]                   \n",
      "__________________________________________________________________________________________________\n",
      "add_1 (Add)                     (None, 80, 80, 128)  0           cropping2d_1[0][0]               \n",
      "                                                                 batch_normalization_4[0][0]      \n",
      "__________________________________________________________________________________________________\n",
      "conv2d_6 (Conv2D)               (None, 78, 78, 128)  147584      add_1[0][0]                      \n",
      "__________________________________________________________________________________________________\n",
      "batch_normalization_5 (BatchNor (None, 78, 78, 128)  512         conv2d_6[0][0]                   \n",
      "__________________________________________________________________________________________________\n",
      "activation_2 (Activation)       (None, 78, 78, 128)  0           batch_normalization_5[0][0]      \n",
      "__________________________________________________________________________________________________\n",
      "conv2d_7 (Conv2D)               (None, 76, 76, 128)  147584      activation_2[0][0]               \n",
      "__________________________________________________________________________________________________\n",
      "cropping2d_2 (Cropping2D)       (None, 76, 76, 128)  0           add_1[0][0]                      \n",
      "__________________________________________________________________________________________________\n",
      "batch_normalization_6 (BatchNor (None, 76, 76, 128)  512         conv2d_7[0][0]                   \n",
      "__________________________________________________________________________________________________\n",
      "add_2 (Add)                     (None, 76, 76, 128)  0           cropping2d_2[0][0]               \n",
      "                                                                 batch_normalization_6[0][0]      \n",
      "__________________________________________________________________________________________________\n",
      "conv2d_8 (Conv2D)               (None, 74, 74, 128)  147584      add_2[0][0]                      \n",
      "__________________________________________________________________________________________________\n",
      "batch_normalization_7 (BatchNor (None, 74, 74, 128)  512         conv2d_8[0][0]                   \n",
      "__________________________________________________________________________________________________\n",
      "activation_3 (Activation)       (None, 74, 74, 128)  0           batch_normalization_7[0][0]      \n",
      "__________________________________________________________________________________________________\n",
      "conv2d_9 (Conv2D)               (None, 72, 72, 128)  147584      activation_3[0][0]               \n",
      "__________________________________________________________________________________________________\n",
      "cropping2d_3 (Cropping2D)       (None, 72, 72, 128)  0           add_2[0][0]                      \n",
      "__________________________________________________________________________________________________\n",
      "batch_normalization_8 (BatchNor (None, 72, 72, 128)  512         conv2d_9[0][0]                   \n",
      "__________________________________________________________________________________________________\n",
      "add_3 (Add)                     (None, 72, 72, 128)  0           cropping2d_3[0][0]               \n",
      "                                                                 batch_normalization_8[0][0]      \n",
      "__________________________________________________________________________________________________\n",
      "conv2d_10 (Conv2D)              (None, 70, 70, 128)  147584      add_3[0][0]                      \n",
      "__________________________________________________________________________________________________\n",
      "batch_normalization_9 (BatchNor (None, 70, 70, 128)  512         conv2d_10[0][0]                  \n",
      "__________________________________________________________________________________________________\n",
      "activation_4 (Activation)       (None, 70, 70, 128)  0           batch_normalization_9[0][0]      \n",
      "__________________________________________________________________________________________________\n",
      "conv2d_11 (Conv2D)              (None, 68, 68, 128)  147584      activation_4[0][0]               \n",
      "__________________________________________________________________________________________________\n",
      "cropping2d_4 (Cropping2D)       (None, 68, 68, 128)  0           add_3[0][0]                      \n",
      "__________________________________________________________________________________________________\n",
      "batch_normalization_10 (BatchNo (None, 68, 68, 128)  512         conv2d_11[0][0]                  \n",
      "__________________________________________________________________________________________________\n",
      "add_4 (Add)                     (None, 68, 68, 128)  0           cropping2d_4[0][0]               \n",
      "                                                                 batch_normalization_10[0][0]     \n",
      "__________________________________________________________________________________________________\n",
      "conv2d_12 (Conv2D)              (None, 66, 66, 128)  147584      add_4[0][0]                      \n",
      "__________________________________________________________________________________________________\n",
      "batch_normalization_11 (BatchNo (None, 66, 66, 128)  512         conv2d_12[0][0]                  \n",
      "__________________________________________________________________________________________________\n",
      "activation_5 (Activation)       (None, 66, 66, 128)  0           batch_normalization_11[0][0]     \n",
      "__________________________________________________________________________________________________\n",
      "conv2d_13 (Conv2D)              (None, 64, 64, 128)  147584      activation_5[0][0]               \n",
      "__________________________________________________________________________________________________\n",
      "cropping2d_5 (Cropping2D)       (None, 64, 64, 128)  0           add_4[0][0]                      \n",
      "__________________________________________________________________________________________________\n",
      "batch_normalization_12 (BatchNo (None, 64, 64, 128)  512         conv2d_13[0][0]                  \n",
      "__________________________________________________________________________________________________\n",
      "add_5 (Add)                     (None, 64, 64, 128)  0           cropping2d_5[0][0]               \n",
      "                                                                 batch_normalization_12[0][0]     \n",
      "__________________________________________________________________________________________________\n",
      "conv2d_transpose_1 (Conv2DTrans (None, 128, 128, 64) 73792       add_5[0][0]                      \n",
      "__________________________________________________________________________________________________\n",
      "batch_normalization_13 (BatchNo (None, 128, 128, 64) 256         conv2d_transpose_1[0][0]         \n",
      "__________________________________________________________________________________________________\n",
      "conv2d_transpose_2 (Conv2DTrans (None, 256, 256, 32) 18464       batch_normalization_13[0][0]     \n",
      "__________________________________________________________________________________________________\n",
      "batch_normalization_14 (BatchNo (None, 256, 256, 32) 128         conv2d_transpose_2[0][0]         \n",
      "__________________________________________________________________________________________________\n",
      "conv2d_14 (Conv2D)              (None, 256, 256, 3)  7779        batch_normalization_14[0][0]     \n",
      "__________________________________________________________________________________________________\n",
      "denormalize_1 (Denormalize)     (None, 256, 256, 3)  0           conv2d_14[0][0]                  \n",
      "==================================================================================================\n",
      "Total params: 1,681,923\n",
      "Trainable params: 1,678,979\n",
      "Non-trainable params: 2,944\n",
      "__________________________________________________________________________________________________\n"
     ]
    }
   ],
   "source": [
    "model_style_transfer.summary()"
   ]
  },
  {
   "cell_type": "code",
   "execution_count": 8,
   "metadata": {},
   "outputs": [],
   "source": [
    "vgg = VGG16(include_top=False)"
   ]
  },
  {
   "cell_type": "code",
   "execution_count": 9,
   "metadata": {},
   "outputs": [
    {
     "name": "stdout",
     "output_type": "stream",
     "text": [
      "_________________________________________________________________\n",
      "Layer (type)                 Output Shape              Param #   \n",
      "=================================================================\n",
      "input_2 (InputLayer)         (None, None, None, 3)     0         \n",
      "_________________________________________________________________\n",
      "block1_conv1 (Conv2D)        (None, None, None, 64)    1792      \n",
      "_________________________________________________________________\n",
      "block1_conv2 (Conv2D)        (None, None, None, 64)    36928     \n",
      "_________________________________________________________________\n",
      "block1_pool (MaxPooling2D)   (None, None, None, 64)    0         \n",
      "_________________________________________________________________\n",
      "block2_conv1 (Conv2D)        (None, None, None, 128)   73856     \n",
      "_________________________________________________________________\n",
      "block2_conv2 (Conv2D)        (None, None, None, 128)   147584    \n",
      "_________________________________________________________________\n",
      "block2_pool (MaxPooling2D)   (None, None, None, 128)   0         \n",
      "_________________________________________________________________\n",
      "block3_conv1 (Conv2D)        (None, None, None, 256)   295168    \n",
      "_________________________________________________________________\n",
      "block3_conv2 (Conv2D)        (None, None, None, 256)   590080    \n",
      "_________________________________________________________________\n",
      "block3_conv3 (Conv2D)        (None, None, None, 256)   590080    \n",
      "_________________________________________________________________\n",
      "block3_pool (MaxPooling2D)   (None, None, None, 256)   0         \n",
      "_________________________________________________________________\n",
      "block4_conv1 (Conv2D)        (None, None, None, 512)   1180160   \n",
      "_________________________________________________________________\n",
      "block4_conv2 (Conv2D)        (None, None, None, 512)   2359808   \n",
      "_________________________________________________________________\n",
      "block4_conv3 (Conv2D)        (None, None, None, 512)   2359808   \n",
      "_________________________________________________________________\n",
      "block4_pool (MaxPooling2D)   (None, None, None, 512)   0         \n",
      "_________________________________________________________________\n",
      "block5_conv1 (Conv2D)        (None, None, None, 512)   2359808   \n",
      "_________________________________________________________________\n",
      "block5_conv2 (Conv2D)        (None, None, None, 512)   2359808   \n",
      "_________________________________________________________________\n",
      "block5_conv3 (Conv2D)        (None, None, None, 512)   2359808   \n",
      "_________________________________________________________________\n",
      "block5_pool (MaxPooling2D)   (None, None, None, 512)   0         \n",
      "=================================================================\n",
      "Total params: 14,714,688\n",
      "Trainable params: 14,714,688\n",
      "Non-trainable params: 0\n",
      "_________________________________________________________________\n"
     ]
    }
   ],
   "source": [
    "vgg.summary() # let's see where to get our outputs for style"
   ]
  },
  {
   "cell_type": "code",
   "execution_count": 10,
   "metadata": {},
   "outputs": [],
   "source": [
    "model1_2 = VGGNormalize()(vgg.input)\n",
    "for i in range (1,3):\n",
    "    model1_2 = vgg.layers[i](model1_2)\n",
    "relu1_2 = Model(inputs=[vgg.input], outputs=[model1_2])\n",
    "\n",
    "model2_2 = VGGNormalize()(vgg.input)\n",
    "for i in range (1,6):\n",
    "    model2_2 = vgg.layers[i](model2_2)\n",
    "relu2_2 = Model(inputs=[vgg.input], outputs=[model2_2])\n",
    "\n",
    "model3_3 = VGGNormalize()(vgg.input)\n",
    "for i in range (1,10):\n",
    "    model3_3 = vgg.layers[i](model3_3)\n",
    "relu3_3 = Model(inputs=[vgg.input], outputs=[model3_3])\n",
    "\n",
    "model4_3 = VGGNormalize()(vgg.input)\n",
    "for i in range (1,14):\n",
    "    model4_3 = vgg.layers[i](model4_3)\n",
    "relu4_3 = Model(inputs=[vgg.input], outputs=[model4_3])\n"
   ]
  },
  {
   "cell_type": "code",
   "execution_count": 11,
   "metadata": {},
   "outputs": [],
   "source": [
    "import cv2"
   ]
  },
  {
   "cell_type": "code",
   "execution_count": 12,
   "metadata": {},
   "outputs": [
    {
     "data": {
      "text/plain": [
       "[<keras.engine.input_layer.InputLayer at 0x210ba770b70>,\n",
       " <__main__.VGGNormalize at 0x210f48d43c8>,\n",
       " <keras.layers.convolutional.Conv2D at 0x210ddb8f240>,\n",
       " <keras.layers.convolutional.Conv2D at 0x210ddb8f4e0>,\n",
       " <keras.layers.pooling.MaxPooling2D at 0x210ddb5bba8>,\n",
       " <keras.layers.convolutional.Conv2D at 0x210ddb5b7b8>,\n",
       " <keras.layers.convolutional.Conv2D at 0x210ddb3ec88>,\n",
       " <keras.layers.pooling.MaxPooling2D at 0x210b5f791d0>,\n",
       " <keras.layers.convolutional.Conv2D at 0x210b5f79208>,\n",
       " <keras.layers.convolutional.Conv2D at 0x210b5f98630>,\n",
       " <keras.layers.convolutional.Conv2D at 0x210b5fb21d0>,\n",
       " <keras.layers.pooling.MaxPooling2D at 0x210b5fe5438>,\n",
       " <keras.layers.convolutional.Conv2D at 0x210b5fe52b0>,\n",
       " <keras.layers.convolutional.Conv2D at 0x210b6001828>,\n",
       " <keras.layers.convolutional.Conv2D at 0x210b601a278>]"
      ]
     },
     "execution_count": 12,
     "metadata": {},
     "output_type": "execute_result"
    }
   ],
   "source": [
    "relu4_3.layers"
   ]
  },
  {
   "cell_type": "code",
   "execution_count": 13,
   "metadata": {},
   "outputs": [],
   "source": [
    "im = cv2.imread(\"jonesy.jpg\")\n",
    "im = cv2.cvtColor(im, cv2.COLOR_BGR2RGB)"
   ]
  },
  {
   "cell_type": "code",
   "execution_count": 14,
   "metadata": {},
   "outputs": [
    {
     "data": {
      "image/png": "[encoded data removed]",
      "text/plain": [
       "<matplotlib.figure.Figure at 0x210f8973f98>"
      ]
     },
     "metadata": {},
     "output_type": "display_data"
    }
   ],
   "source": [
    "provaoutput = relu1_2.predict(np.array([im]))[0,:,:,20]\n",
    "import matplotlib.image as mpimg\n",
    "import matplotlib.pyplot as plt\n",
    "%matplotlib inline\n",
    "plt.imshow(provaoutput, cmap='gray')\n",
    "plt.show()"
   ]
  },
  {
   "cell_type": "code",
   "execution_count": 15,
   "metadata": {},
   "outputs": [],
   "source": [
    "import tensorflow as tf\n",
    "import keras.backend as K\n",
    "\n",
    "def gram_matrix_pre(x):\n",
    "    features = np.transpose(x, (2, 0, 1)).flatten()\n",
    "\n",
    "    shape = np.shape(x)\n",
    "    \n",
    "    C, W, H = (shape[2],shape[0], shape[1])\n",
    "    cf = np.reshape(features ,(C,-1))\n",
    "    gram = np.dot(cf, np.transpose(cf)) /  np.float32(C*W*H)\n",
    "\n",
    "    return gram\n",
    "\n",
    "def gram_matrix(x):\n",
    "    assert K.ndim(x) == 3\n",
    "    features = K.batch_flatten(K.permute_dimensions(x, (2, 0, 1)))\n",
    "\n",
    "    shape = K.shape(x)\n",
    "    C, W, H = (shape[2],shape[0], shape[1])\n",
    "        \n",
    "    cf = K.reshape(features ,(C,-1))\n",
    "    gram = K.dot(cf, K.transpose(cf)) /  K.cast(C*W*H,dtype='float32')\n",
    "\n",
    "    return gram\n",
    "\n",
    "\n"
   ]
  },
  {
   "cell_type": "code",
   "execution_count": 16,
   "metadata": {},
   "outputs": [],
   "source": [
    "im = cv2.resize(im, (256, 256))\n",
    "style_gram_1 = gram_matrix_pre(relu1_2.predict(np.array([im]))[0])\n",
    "style_gram_2 = gram_matrix_pre(relu2_2.predict(np.array([im]))[0])\n",
    "style_gram_3 = gram_matrix_pre(relu3_3.predict(np.array([im]))[0])\n",
    "style_gram_4 = gram_matrix_pre(relu4_3.predict(np.array([im]))[0])"
   ]
  },
  {
   "cell_type": "code",
   "execution_count": 17,
   "metadata": {},
   "outputs": [
    {
     "data": {
      "text/plain": [
       "(512, 512)"
      ]
     },
     "execution_count": 17,
     "metadata": {},
     "output_type": "execute_result"
    }
   ],
   "source": [
    "style_gram_4.shape"
   ]
  },
  {
   "cell_type": "code",
   "execution_count": 18,
   "metadata": {},
   "outputs": [],
   "source": [
    "import os\n",
    "path = '/datasets/'#/coco-2014-train/'\n",
    "path_actual = '/datasets/coco-2014-train/'\n",
    "X = [cv2.imread(path_actual+name) for name in os.listdir(path_actual)[:50]]\n",
    "X = [cv2.resize(item, (256, 256)) for item in X]\n",
    "X = [cv2.cvtColor(item, cv2.COLOR_BGR2RGB) for item in X]\n",
    "X = np.array(X)"
   ]
  },
  {
   "cell_type": "code",
   "execution_count": 19,
   "metadata": {},
   "outputs": [],
   "source": [
    "from keras.layers import InputLayer\n",
    "import tensorflow as tf\n",
    "\n",
    "def pre_loss(inputs_to_use):\n",
    "    def loss_function_for_style_transfer(y_true, y_pred):\n",
    "\n",
    "\n",
    "        #relu1_2 = Model(inputs=[vgg.get_layer(index=0).input], outputs=[vgg.get_layer(index=2).output])\n",
    "        #relu2_2 = Model(inputs=[vgg.get_layer(index=0).input], outputs=[vgg.get_layer(index=5).output])\n",
    "        #relu3_3 = Model(inputs=[vgg.get_layer(index=0).input], outputs=[vgg.get_layer(index=9).output])\n",
    "        #relu4_3 = Model(inputs=[vgg.get_layer(index=0).input], outputs=[vgg.get_layer(index=13).output])\n",
    "        #inputs1 = Input(tensor=y_pred)\n",
    "        \n",
    "        \n",
    "        inputs1 = keras.layers.Input(tensor=y_pred)\n",
    "    \n",
    "        model_loss1 = VGGNormalize()(inputs1)\n",
    "        for i in range (1,3):\n",
    "            model_loss1 = vgg.layers[i](model_loss1)\n",
    "        model_loss_final1 = Model(inputs=[inputs1], outputs=[model_loss1])\n",
    "        loss_net_relu1_2 = model_loss_final1.output\n",
    "\n",
    "        model_loss2 = VGGNormalize()(inputs1)\n",
    "        for i in range (1,6):\n",
    "            model_loss2 = vgg.layers[i](model_loss2)\n",
    "        model_loss_final2 = Model(inputs=[inputs1], outputs=[model_loss2])\n",
    "        loss_net_relu2_2 = model_loss_final2.output\n",
    "        \n",
    "        model_loss3 = VGGNormalize()(inputs1)\n",
    "        for i in range (1,10):\n",
    "            model_loss3 = vgg.layers[i](model_loss3)\n",
    "        model_loss_final3 = Model(inputs=[inputs1], outputs=[model_loss3])\n",
    "        loss_net_relu3_3 = model_loss_final3.output\n",
    "    \n",
    "    \n",
    "        model_loss4 = VGGNormalize()(inputs1)\n",
    "        for i in range (1,14):\n",
    "            model_loss4 = vgg.layers[i](model_loss4)\n",
    "        model_loss_final4 = Model(inputs=[inputs1], outputs=[model_loss4])\n",
    "        loss_net_relu4_3 = model_loss_final4.output\n",
    "                \n",
    "        model_feature = VGGNormalize()(inputs_to_use)\n",
    "        print(inputs_to_use)\n",
    "        for i in range (1,6):\n",
    "            model_feature = vgg.layers[i](model_feature)\n",
    "\n",
    "        loss_net_feature_relu2_2 = Model(inputs=[inputs_to_use], outputs=[model_feature]).output\n",
    "                    \n",
    "        gram1_style = K.variable(style_gram_1)\n",
    "        gram2_style = K.variable(style_gram_2)\n",
    "        gram3_style = K.variable(style_gram_3)\n",
    "        gram4_style = K.variable(style_gram_4)\n",
    "\n",
    "        gram_1 = gram_matrix(loss_net_relu1_2[0])\n",
    "        gram_2 = gram_matrix(loss_net_relu2_2[0])\n",
    "        gram_3 = gram_matrix(loss_net_relu3_3[0])\n",
    "        gram_4 = gram_matrix(loss_net_relu4_3[0])\n",
    "\n",
    "\n",
    "        style1_loss = tf.norm(gram1_style - gram_1, ord='fro', axis=[-2, -1])\n",
    "        style2_loss = tf.norm(gram2_style - gram_2, ord='fro', axis=[-2, -1])\n",
    "        style3_loss = tf.norm(gram3_style - gram_3, ord='fro', axis=[-2, -1])\n",
    "        style4_loss = tf.norm(gram4_style - gram_4, ord='fro', axis=[-2, -1])\n",
    "\n",
    "        \n",
    "        shape = K.shape(loss_net_feature_relu2_2)\n",
    "        print (shape)\n",
    "        C, W, H = (shape[2],shape[0], shape[1])\n",
    "        \n",
    "        feature_loss = 5*(tf.norm(loss_net_feature_relu2_2[0] - loss_net_relu2_2[0]))/K.cast(C*W*H,dtype='float32')\n",
    "\n",
    "        return feature_loss+style1_loss+style2_loss+style3_loss+style4_loss\n",
    "\n",
    "    return loss_function_for_style_transfer\n"
   ]
  },
  {
   "cell_type": "code",
   "execution_count": 20,
   "metadata": {},
   "outputs": [
    {
     "name": "stdout",
     "output_type": "stream",
     "text": [
      "Tensor(\"input_1:0\", shape=(?, 256, 256, 3), dtype=float32)\n",
      "Tensor(\"loss/denormalize_1_loss/Shape_8:0\", shape=(4,), dtype=int32)\n"
     ]
    }
   ],
   "source": [
    "from keras.preprocessing.image import ImageDataGenerator\n",
    "\n",
    "model_style_transfer.compile('nadam', loss=[pre_loss(model_style_transfer.input)])\n"
   ]
  },
  {
   "cell_type": "code",
   "execution_count": 21,
   "metadata": {},
   "outputs": [],
   "source": [
    "train_datagen = ImageDataGenerator()"
   ]
  },
  {
   "cell_type": "code",
   "execution_count": 22,
   "metadata": {},
   "outputs": [
    {
     "name": "stdout",
     "output_type": "stream",
     "text": [
      "Found 123287 images belonging to 2 classes.\n"
     ]
    }
   ],
   "source": [
    "train_generator = train_datagen.flow_from_directory(\n",
    "        path,\n",
    "        target_size=(256, 256),\n",
    "        batch_size=1)\n"
   ]
  },
  {
   "cell_type": "code",
   "execution_count": 23,
   "metadata": {},
   "outputs": [],
   "source": [
    "from keras.callbacks import ModelCheckpoint, TensorBoard\n",
    "from keras_tqdm import TQDMNotebookCallback\n",
    "\n",
    "progressbar = TQDMNotebookCallback(leave_inner=True)\n",
    "checkpointer = ModelCheckpoint(filepath='weights/weights.hdf5', verbose=1)\n",
    "tensorboard = TensorBoard(batch_size=1, update_freq=50)\n"
   ]
  },
  {
   "cell_type": "code",
   "execution_count": null,
   "metadata": {},
   "outputs": [
    {
     "data": {
      "application/vnd.jupyter.widget-view+json": {
       "model_id": "aa6b50f5e6e24a0d92d2026c9d1eecf0",
       "version_major": 2,
       "version_minor": 0
      },
      "text/plain": [
       "HBox(children=(IntProgress(value=0, description='Training', max=4), HTML(value='')))"
      ]
     },
     "metadata": {},
     "output_type": "display_data"
    },
    {
     "data": {
      "application/vnd.jupyter.widget-view+json": {
       "model_id": "ee8b1ab751204b28ae4502e2b82b93fd",
       "version_major": 2,
       "version_minor": 0
      },
      "text/plain": [
       "HBox(children=(IntProgress(value=0, description='Epoch 0', max=123287), HTML(value='')))"
      ]
     },
     "metadata": {},
     "output_type": "display_data"
    }
   ],
   "source": [
    "model_style_transfer.fit_generator(\n",
    "        train_generator,\n",
    "        steps_per_epoch=123287,\n",
    "        epochs=4,\n",
    "        callbacks=[checkpointer, tensorboard, progressbar],\n",
    "        verbose=0,\n",
    "        max_queue_size=30,\n",
    "        workers=8\n",
    "        )\n",
    "\n",
    "#model_style_transfer.fit(X, X, batch_size=1, epochs=1000)"
   ]
  },
  {
   "cell_type": "code",
   "execution_count": null,
   "metadata": {},
   "outputs": [],
   "source": [
    "im_test = cv2.imread(\"propic.jpg\")\n",
    "im_test = cv2.cvtColor(im_test, cv2.COLOR_BGR2RGB)\n",
    "im_test = cv2.resize(im_test, (256, 256))\n",
    "im_test_to_feed = np.reshape(im_test, [1, im_test.shape[0], im_test.shape[1], im_test.shape[2]])\n",
    "result = model_style_transfer.predict(im_test_to_feed)\n",
    "result = np.reshape(result, [256, 256, 3])\n",
    "plt.imshow(im_test_to_feed[0])"
   ]
  },
  {
   "cell_type": "code",
   "execution_count": null,
   "metadata": {},
   "outputs": [],
   "source": [
    "plt.imshow(result.astype('uint8'))\n",
    "plt.show()\n",
    "#plt.imshow(result.astype('uint8'))"
   ]
  },
  {
   "cell_type": "code",
   "execution_count": null,
   "metadata": {},
   "outputs": [],
   "source": [
    "im_test = cv2.imread(\"/datasets/coco-2014-train/COCO_train2014_000000000009.jpg\")\n",
    "im_test = cv2.cvtColor(im_test, cv2.COLOR_BGR2RGB)\n",
    "im_test = cv2.resize(im_test, (256, 256))\n",
    "im_test_to_feed = np.reshape(im_test, [1, im_test.shape[0], im_test.shape[1], im_test.shape[2]])\n",
    "result = model_style_transfer.predict(im_test_to_feed)\n",
    "result = np.reshape(result, [256, 256, 3])\n",
    "plt.imshow(im_test_to_feed[0])"
   ]
  },
  {
   "cell_type": "code",
   "execution_count": null,
   "metadata": {},
   "outputs": [],
   "source": [
    "plt.imshow(result.astype('uint8'))\n",
    "plt.show()"
   ]
  },
  {
   "cell_type": "code",
   "execution_count": null,
   "metadata": {},
   "outputs": [],
   "source": [
    "plt.imshow(im)"
   ]
  },
  {
   "cell_type": "code",
   "execution_count": null,
   "metadata": {},
   "outputs": [],
   "source": []
  },
  {
   "cell_type": "code",
   "execution_count": null,
   "metadata": {},
   "outputs": [],
   "source": []
  },
  {
   "cell_type": "code",
   "execution_count": null,
   "metadata": {},
   "outputs": [],
   "source": [
    "relu1_2.predict(np.array([im]))[0].shape"
   ]
  },
  {
   "cell_type": "code",
   "execution_count": null,
   "metadata": {},
   "outputs": [],
   "source": [
    "result.astype('uint8')"
   ]
  },
  {
   "cell_type": "code",
   "execution_count": null,
   "metadata": {},
   "outputs": [],
   "source": []
  },
  {
   "cell_type": "code",
   "execution_count": null,
   "metadata": {},
   "outputs": [],
   "source": [
    "(result+120).astype('uint8')"
   ]
  },
  {
   "cell_type": "code",
   "execution_count": null,
   "metadata": {},
   "outputs": [],
   "source": [
    "result.astype('uint8').shape"
   ]
  },
  {
   "cell_type": "code",
   "execution_count": null,
   "metadata": {},
   "outputs": [],
   "source": [
    "im_test_to_feed[0].shape"
   ]
  },
  {
   "cell_type": "code",
   "execution_count": null,
   "metadata": {},
   "outputs": [],
   "source": [
    "result.astype('uint8')"
   ]
  },
  {
   "cell_type": "code",
   "execution_count": null,
   "metadata": {},
   "outputs": [],
   "source": []
  },
  {
   "cell_type": "markdown",
   "metadata": {},
   "source": []
  }
 ],
 "metadata": {
  "kernelspec": {
   "display_name": "Python 3",
   "language": "python",
   "name": "python3"
  },
  "language_info": {
   "codemirror_mode": {
    "name": "ipython",
    "version": 3
   },
   "file_extension": ".py",
   "mimetype": "text/x-python",
   "name": "python",
   "nbconvert_exporter": "python",
   "pygments_lexer": "ipython3",
   "version": "3.6.2"
  }
 },
 "nbformat": 4,
 "nbformat_minor": 2
}
