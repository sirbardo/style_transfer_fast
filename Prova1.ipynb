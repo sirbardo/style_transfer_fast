{
 "cells": [
  {
   "cell_type": "code",
   "execution_count": 57,
   "metadata": {},
   "outputs": [],
   "source": [
    "import keras\n",
    "import numpy as np\n",
    "from keras import activations"
   ]
  },
  {
   "cell_type": "code",
   "execution_count": 74,
   "metadata": {},
   "outputs": [],
   "source": [
    "from keras import layers\n",
    "from keras.layers import BatchNormalization, Convolution2D, Input, merge\n",
    "from keras.layers.core import Activation, Layer\n",
    "\n",
    "def conv_block(feat_maps_out, prev):\n",
    "    prev = BatchNormalization()(prev) # Specifying the axis and mode allows for later merging\n",
    "    prev = Activation('relu')(prev)\n",
    "    prev = Conv2D(feat_maps_out, 3, padding='same')(prev) \n",
    "    prev = BatchNormalization()(prev) # Specifying the axis and mode allows for later merging\n",
    "    prev = Activation('relu')(prev)\n",
    "    prev = Conv2D(feat_maps_out, 3, padding='same')(prev) \n",
    "    return prev\n",
    "\n",
    "\n",
    "def skip_block(feat_maps_in, feat_maps_out, prev):\n",
    "    if feat_maps_in != feat_maps_out:\n",
    "        # This adds in a 1x1 convolution on shortcuts that map between an uneven amount of channels\n",
    "        prev = Conv2D(feat_maps_out, 1, padding='same')(prev)\n",
    "    return prev \n",
    "\n",
    "\n",
    "def Residual(feat_maps_in, feat_maps_out, prev_layer):\n",
    "    '''\n",
    "    A customizable residual unit with convolutional and shortcut blocks\n",
    "    Args:\n",
    "      feat_maps_in: number of channels/filters coming in, from input or previous layer\n",
    "      feat_maps_out: how many output channels/filters this block will produce\n",
    "      prev_layer: the previous layer\n",
    "    '''\n",
    "\n",
    "    skip = skip_block(feat_maps_in, feat_maps_out, prev_layer)\n",
    "    conv = conv_block(feat_maps_out, prev_layer)\n",
    "\n",
    "    print('Residual block mapping '+str(feat_maps_in)+' channels to '+str(feat_maps_out)+' channels built')\n",
    "\n",
    "    return layers.add([skip, conv]) # the residual connection\n"
   ]
  },
  {
   "cell_type": "code",
   "execution_count": 75,
   "metadata": {},
   "outputs": [],
   "source": [
    "from keras.models import Input, Model\n",
    "from keras.layers import Conv2D\n",
    "from keras.layers import Deconv2D"
   ]
  },
  {
   "cell_type": "code",
   "execution_count": 76,
   "metadata": {},
   "outputs": [],
   "source": [
    "import tensorflow as tf\n",
    "from keras.engine.topology import Layer\n",
    "from keras.engine import InputSpec\n",
    "\n",
    "class ReflectionPadding2D(Layer):\n",
    "    def __init__(self, padding=(1, 1), **kwargs):\n",
    "        self.padding = tuple(padding)\n",
    "        self.input_spec = [InputSpec(ndim=4)]\n",
    "        super(ReflectionPadding2D, self).__init__(**kwargs)\n",
    "\n",
    "    def get_output_shape_for(self, s):\n",
    "        \"\"\" If you are using \"channels_last\" configuration\"\"\"\n",
    "        return (s[0], s[1] + 2 * self.padding[0], s[2] + 2 * self.padding[1], s[3])\n",
    "\n",
    "    def call(self, x, mask=None):\n",
    "        w_pad,h_pad = self.padding\n",
    "        return tf.pad(x, [[0,0], [h_pad,h_pad], [w_pad,w_pad], [0,0] ], 'REFLECT')\n",
    "\n",
    "class Denormalize(Layer):\n",
    "    '''\n",
    "    Custom layer to denormalize the final Convolution layer activations (tanh)\n",
    "    Since tanh scales the output to the range (-1, 1), we add 1 to bring it to the\n",
    "    range (0, 2). We then multiply it by 127.5 to scale the values to the range (0, 255)\n",
    "    '''\n",
    "\n",
    "    def __init__(self, **kwargs):\n",
    "        super(Denormalize, self).__init__(**kwargs)\n",
    "\n",
    "    def build(self, input_shape):\n",
    "        pass\n",
    "\n",
    "    def call(self, x, mask=None):\n",
    "        '''\n",
    "        Scales the tanh output activations from previous layer (-1, 1) to the\n",
    "        range (0, 255)\n",
    "        '''\n",
    "\n",
    "        return (x + 1) * 127.5\n",
    "\n",
    "    def compute_output_shape(self,input_shape):\n",
    "        return input_shape\n",
    "\n",
    "    \n",
    "    \n"
   ]
  },
  {
   "cell_type": "code",
   "execution_count": 99,
   "metadata": {},
   "outputs": [
    {
     "name": "stdout",
     "output_type": "stream",
     "text": [
      "Residual block mapping 128 channels to 128 channels built\n",
      "Residual block mapping 128 channels to 128 channels built\n",
      "Residual block mapping 128 channels to 128 channels built\n",
      "Residual block mapping 128 channels to 128 channels built\n",
      "Residual block mapping 128 channels to 128 channels built\n"
     ]
    }
   ],
   "source": [
    "\"\"\"\n",
    "In this cell I define, functionally, the \"image transformation\" network from jc johnson's and li fei fei paper.\n",
    "\"\"\"\n",
    "\n",
    "inputs = Input(shape=[256, 256, 3])\n",
    "o = ReflectionPadding2D(padding=(40,40))(inputs) #TODO: Check if the reflection padding is done as the paper\n",
    "o = Conv2D(32, (9, 9), strides=(1,1), padding='same', activation='relu')(inputs)\n",
    "o = Conv2D(64, (3, 3), strides=(2,2), padding='same', activation='relu')(o)\n",
    "o = Conv2D(128, (3, 3), strides=(2,2), padding='same', activation='relu')(o)\n",
    "o = Residual(128, 128, o)\n",
    "o = Residual(128, 128, o)\n",
    "o = Residual(128, 128, o)\n",
    "o = Residual(128, 128, o)\n",
    "o = Residual(128, 128, o)\n",
    "o = Deconv2D(64, (3, 3), strides=2, padding='same', activation='relu')(o)\n",
    "o = Deconv2D(32, (3, 3), strides=2, padding='same', activation='relu')(o) #TODO: check if the output of this layer is the same as the fractional stride conv\n",
    "o = Conv2D(3, (9, 9), strides=1, activation='tanh', padding='same')(o)\n",
    "o = Denormalize()(o)\n",
    "\n",
    "model_style_transfer = Model(inputs=inputs, outputs=o)\n"
   ]
  },
  {
   "cell_type": "code",
   "execution_count": 100,
   "metadata": {},
   "outputs": [],
   "source": [
    "from keras.applications import VGG16"
   ]
  },
  {
   "cell_type": "code",
   "execution_count": 101,
   "metadata": {},
   "outputs": [
    {
     "name": "stdout",
     "output_type": "stream",
     "text": [
      "__________________________________________________________________________________________________\n",
      "Layer (type)                    Output Shape         Param #     Connected to                     \n",
      "==================================================================================================\n",
      "input_16 (InputLayer)           (None, 256, 256, 3)  0                                            \n",
      "__________________________________________________________________________________________________\n",
      "conv2d_74 (Conv2D)              (None, 256, 256, 32) 7808        input_16[0][0]                   \n",
      "__________________________________________________________________________________________________\n",
      "conv2d_75 (Conv2D)              (None, 128, 128, 64) 18496       conv2d_74[0][0]                  \n",
      "__________________________________________________________________________________________________\n",
      "conv2d_76 (Conv2D)              (None, 64, 64, 128)  73856       conv2d_75[0][0]                  \n",
      "__________________________________________________________________________________________________\n",
      "batch_normalization_45 (BatchNo (None, 64, 64, 128)  512         conv2d_76[0][0]                  \n",
      "__________________________________________________________________________________________________\n",
      "activation_7 (Activation)       (None, 64, 64, 128)  0           batch_normalization_45[0][0]     \n",
      "__________________________________________________________________________________________________\n",
      "conv2d_77 (Conv2D)              (None, 64, 64, 128)  147584      activation_7[0][0]               \n",
      "__________________________________________________________________________________________________\n",
      "batch_normalization_46 (BatchNo (None, 64, 64, 128)  512         conv2d_77[0][0]                  \n",
      "__________________________________________________________________________________________________\n",
      "activation_8 (Activation)       (None, 64, 64, 128)  0           batch_normalization_46[0][0]     \n",
      "__________________________________________________________________________________________________\n",
      "conv2d_78 (Conv2D)              (None, 64, 64, 128)  147584      activation_8[0][0]               \n",
      "__________________________________________________________________________________________________\n",
      "add_21 (Add)                    (None, 64, 64, 128)  0           conv2d_76[0][0]                  \n",
      "                                                                 conv2d_78[0][0]                  \n",
      "__________________________________________________________________________________________________\n",
      "batch_normalization_47 (BatchNo (None, 64, 64, 128)  512         add_21[0][0]                     \n",
      "__________________________________________________________________________________________________\n",
      "activation_9 (Activation)       (None, 64, 64, 128)  0           batch_normalization_47[0][0]     \n",
      "__________________________________________________________________________________________________\n",
      "conv2d_79 (Conv2D)              (None, 64, 64, 128)  147584      activation_9[0][0]               \n",
      "__________________________________________________________________________________________________\n",
      "batch_normalization_48 (BatchNo (None, 64, 64, 128)  512         conv2d_79[0][0]                  \n",
      "__________________________________________________________________________________________________\n",
      "activation_10 (Activation)      (None, 64, 64, 128)  0           batch_normalization_48[0][0]     \n",
      "__________________________________________________________________________________________________\n",
      "conv2d_80 (Conv2D)              (None, 64, 64, 128)  147584      activation_10[0][0]              \n",
      "__________________________________________________________________________________________________\n",
      "add_22 (Add)                    (None, 64, 64, 128)  0           add_21[0][0]                     \n",
      "                                                                 conv2d_80[0][0]                  \n",
      "__________________________________________________________________________________________________\n",
      "batch_normalization_49 (BatchNo (None, 64, 64, 128)  512         add_22[0][0]                     \n",
      "__________________________________________________________________________________________________\n",
      "activation_11 (Activation)      (None, 64, 64, 128)  0           batch_normalization_49[0][0]     \n",
      "__________________________________________________________________________________________________\n",
      "conv2d_81 (Conv2D)              (None, 64, 64, 128)  147584      activation_11[0][0]              \n",
      "__________________________________________________________________________________________________\n",
      "batch_normalization_50 (BatchNo (None, 64, 64, 128)  512         conv2d_81[0][0]                  \n",
      "__________________________________________________________________________________________________\n",
      "activation_12 (Activation)      (None, 64, 64, 128)  0           batch_normalization_50[0][0]     \n",
      "__________________________________________________________________________________________________\n",
      "conv2d_82 (Conv2D)              (None, 64, 64, 128)  147584      activation_12[0][0]              \n",
      "__________________________________________________________________________________________________\n",
      "add_23 (Add)                    (None, 64, 64, 128)  0           add_22[0][0]                     \n",
      "                                                                 conv2d_82[0][0]                  \n",
      "__________________________________________________________________________________________________\n",
      "batch_normalization_51 (BatchNo (None, 64, 64, 128)  512         add_23[0][0]                     \n",
      "__________________________________________________________________________________________________\n",
      "activation_13 (Activation)      (None, 64, 64, 128)  0           batch_normalization_51[0][0]     \n",
      "__________________________________________________________________________________________________\n",
      "conv2d_83 (Conv2D)              (None, 64, 64, 128)  147584      activation_13[0][0]              \n",
      "__________________________________________________________________________________________________\n",
      "batch_normalization_52 (BatchNo (None, 64, 64, 128)  512         conv2d_83[0][0]                  \n",
      "__________________________________________________________________________________________________\n",
      "activation_14 (Activation)      (None, 64, 64, 128)  0           batch_normalization_52[0][0]     \n",
      "__________________________________________________________________________________________________\n",
      "conv2d_84 (Conv2D)              (None, 64, 64, 128)  147584      activation_14[0][0]              \n",
      "__________________________________________________________________________________________________\n",
      "add_24 (Add)                    (None, 64, 64, 128)  0           add_23[0][0]                     \n",
      "                                                                 conv2d_84[0][0]                  \n",
      "__________________________________________________________________________________________________\n",
      "batch_normalization_53 (BatchNo (None, 64, 64, 128)  512         add_24[0][0]                     \n",
      "__________________________________________________________________________________________________\n",
      "activation_15 (Activation)      (None, 64, 64, 128)  0           batch_normalization_53[0][0]     \n",
      "__________________________________________________________________________________________________\n",
      "conv2d_85 (Conv2D)              (None, 64, 64, 128)  147584      activation_15[0][0]              \n",
      "__________________________________________________________________________________________________\n",
      "batch_normalization_54 (BatchNo (None, 64, 64, 128)  512         conv2d_85[0][0]                  \n",
      "__________________________________________________________________________________________________\n",
      "activation_16 (Activation)      (None, 64, 64, 128)  0           batch_normalization_54[0][0]     \n",
      "__________________________________________________________________________________________________\n",
      "conv2d_86 (Conv2D)              (None, 64, 64, 128)  147584      activation_16[0][0]              \n",
      "__________________________________________________________________________________________________\n",
      "add_25 (Add)                    (None, 64, 64, 128)  0           add_24[0][0]                     \n",
      "                                                                 conv2d_86[0][0]                  \n",
      "__________________________________________________________________________________________________\n",
      "conv2d_transpose_9 (Conv2DTrans (None, 128, 128, 64) 73792       add_25[0][0]                     \n",
      "__________________________________________________________________________________________________\n",
      "conv2d_transpose_10 (Conv2DTran (None, 256, 256, 32) 18464       conv2d_transpose_9[0][0]         \n",
      "__________________________________________________________________________________________________\n",
      "conv2d_87 (Conv2D)              (None, 256, 256, 3)  7779        conv2d_transpose_10[0][0]        \n",
      "__________________________________________________________________________________________________\n",
      "denormalize_5 (Denormalize)     (None, 256, 256, 3)  0           conv2d_87[0][0]                  \n",
      "==================================================================================================\n",
      "Total params: 1,681,155\n",
      "Trainable params: 1,678,595\n",
      "Non-trainable params: 2,560\n",
      "__________________________________________________________________________________________________\n"
     ]
    }
   ],
   "source": [
    "model_style_transfer.summary()"
   ]
  },
  {
   "cell_type": "code",
   "execution_count": 102,
   "metadata": {},
   "outputs": [],
   "source": [
    "vgg = VGG16(include_top=False)"
   ]
  },
  {
   "cell_type": "code",
   "execution_count": 103,
   "metadata": {},
   "outputs": [
    {
     "name": "stdout",
     "output_type": "stream",
     "text": [
      "_________________________________________________________________\n",
      "Layer (type)                 Output Shape              Param #   \n",
      "=================================================================\n",
      "input_17 (InputLayer)        (None, None, None, 3)     0         \n",
      "_________________________________________________________________\n",
      "block1_conv1 (Conv2D)        (None, None, None, 64)    1792      \n",
      "_________________________________________________________________\n",
      "block1_conv2 (Conv2D)        (None, None, None, 64)    36928     \n",
      "_________________________________________________________________\n",
      "block1_pool (MaxPooling2D)   (None, None, None, 64)    0         \n",
      "_________________________________________________________________\n",
      "block2_conv1 (Conv2D)        (None, None, None, 128)   73856     \n",
      "_________________________________________________________________\n",
      "block2_conv2 (Conv2D)        (None, None, None, 128)   147584    \n",
      "_________________________________________________________________\n",
      "block2_pool (MaxPooling2D)   (None, None, None, 128)   0         \n",
      "_________________________________________________________________\n",
      "block3_conv1 (Conv2D)        (None, None, None, 256)   295168    \n",
      "_________________________________________________________________\n",
      "block3_conv2 (Conv2D)        (None, None, None, 256)   590080    \n",
      "_________________________________________________________________\n",
      "block3_conv3 (Conv2D)        (None, None, None, 256)   590080    \n",
      "_________________________________________________________________\n",
      "block3_pool (MaxPooling2D)   (None, None, None, 256)   0         \n",
      "_________________________________________________________________\n",
      "block4_conv1 (Conv2D)        (None, None, None, 512)   1180160   \n",
      "_________________________________________________________________\n",
      "block4_conv2 (Conv2D)        (None, None, None, 512)   2359808   \n",
      "_________________________________________________________________\n",
      "block4_conv3 (Conv2D)        (None, None, None, 512)   2359808   \n",
      "_________________________________________________________________\n",
      "block4_pool (MaxPooling2D)   (None, None, None, 512)   0         \n",
      "_________________________________________________________________\n",
      "block5_conv1 (Conv2D)        (None, None, None, 512)   2359808   \n",
      "_________________________________________________________________\n",
      "block5_conv2 (Conv2D)        (None, None, None, 512)   2359808   \n",
      "_________________________________________________________________\n",
      "block5_conv3 (Conv2D)        (None, None, None, 512)   2359808   \n",
      "_________________________________________________________________\n",
      "block5_pool (MaxPooling2D)   (None, None, None, 512)   0         \n",
      "=================================================================\n",
      "Total params: 14,714,688\n",
      "Trainable params: 14,714,688\n",
      "Non-trainable params: 0\n",
      "_________________________________________________________________\n"
     ]
    }
   ],
   "source": [
    "vgg.summary() # let's see where to get our outputs for style"
   ]
  },
  {
   "cell_type": "code",
   "execution_count": 104,
   "metadata": {},
   "outputs": [],
   "source": [
    "relu1_2 = Model(inputs=[vgg.get_layer(index=0).input], outputs=[vgg.get_layer(index=2).output])\n",
    "relu2_2 = Model(inputs=[vgg.get_layer(index=0).input], outputs=[vgg.get_layer(index=5).output])\n",
    "relu3_3 = Model(inputs=[vgg.get_layer(index=0).input], outputs=[vgg.get_layer(index=9).output])\n",
    "relu4_3 = Model(inputs=[vgg.get_layer(index=0).input], outputs=[vgg.get_layer(index=13).output])"
   ]
  },
  {
   "cell_type": "code",
   "execution_count": 105,
   "metadata": {},
   "outputs": [],
   "source": [
    "import cv2"
   ]
  },
  {
   "cell_type": "code",
   "execution_count": 106,
   "metadata": {},
   "outputs": [],
   "source": [
    "im = cv2.imread(\"fortnite/34.png\")\n",
    "im = cv2.cvtColor(im, cv2.COLOR_BGR2RGB)"
   ]
  },
  {
   "cell_type": "code",
   "execution_count": 107,
   "metadata": {},
   "outputs": [
    {
     "data": {
      "image/png": "[encoded data removed]",
      "text/plain": [
       "<matplotlib.figure.Figure at 0x2dbc7be0dd8>"
      ]
     },
     "metadata": {},
     "output_type": "display_data"
    }
   ],
   "source": [
    "provaoutput = relu2_2.predict(np.array([im]))[0,:,:,80]\n",
    "\n",
    "import matplotlib.image as mpimg\n",
    "import matplotlib.pyplot as plt\n",
    "%matplotlib inline\n",
    "plt.imshow(provaoutput, cmap='gray')\n",
    "plt.show()"
   ]
  },
  {
   "cell_type": "code",
   "execution_count": 108,
   "metadata": {},
   "outputs": [],
   "source": [
    "import tensorflow as tf\n",
    "import keras.backend as K\n",
    "\n",
    "def custom_objective(y_true, y_pred):\n",
    "    '''Just another crossentropy'''\n",
    "    y_true = tf.Variable(trainable=False, initial_value=tf.float32(0.0))\n",
    "    distance = y_pred - y_true\n",
    "    return distance\n",
    "\n",
    "def gram_matrix_pre(x):\n",
    "    if K.image_dim_ordering() == 'th':\n",
    "        features = x.flatten()\n",
    "    else:\n",
    "        features = np.transpose(x, (2, 0, 1)).flatten()\n",
    "\n",
    "    shape = np.shape(x)\n",
    "    \n",
    "    C, W, H = (shape[0],shape[1], shape[2])\n",
    "    \n",
    "    cf = np.reshape(features ,(C,-1))\n",
    "    gram = np.dot(cf, np.transpose(cf)) /  np.float32(C*W*H)\n",
    "\n",
    "    return gram\n",
    "\n",
    "def gram_matrix(x):\n",
    "    assert K.ndim(x) == 3\n",
    "    if K.image_dim_ordering() == 'th':\n",
    "        features = K.batch_flatten(x)\n",
    "    else:\n",
    "        features = K.batch_flatten(K.permute_dimensions(x, (2, 0, 1)))\n",
    "\n",
    "    shape = K.shape(x)\n",
    "    \n",
    "    C, W, H = (shape[0],shape[1], shape[2])\n",
    "    \n",
    "    cf = K.reshape(features ,(C,-1))\n",
    "    gram = K.dot(cf, K.transpose(cf)) /  K.cast(C*W*H,dtype='float32')\n",
    "\n",
    "    return gram\n",
    "\n",
    "\n"
   ]
  },
  {
   "cell_type": "code",
   "execution_count": 109,
   "metadata": {},
   "outputs": [],
   "source": [
    "im = cv2.resize(im, (256, 256))\n",
    "style_gram_1 = gram_matrix_pre(relu1_2.predict(np.array([im]))[0])\n",
    "style_gram_2 = gram_matrix_pre(relu2_2.predict(np.array([im]))[0])\n",
    "style_gram_3 = gram_matrix_pre(relu3_3.predict(np.array([im]))[0])\n",
    "style_gram_4 = gram_matrix_pre(relu4_3.predict(np.array([im]))[0])"
   ]
  },
  {
   "cell_type": "code",
   "execution_count": 110,
   "metadata": {},
   "outputs": [],
   "source": [
    "import os\n",
    "path = '/datasets/'#/coco-2014-train/'\n",
    "path_actual = '/datasets/coco-2014-train/'\n",
    "X = [cv2.imread(path_actual+name) for name in os.listdir(path_actual)[:50]]\n",
    "X = [cv2.resize(item, (256, 256)) for item in X]\n",
    "X = [cv2.cvtColor(item, cv2.COLOR_BGR2RGB) for item in X]\n",
    "X = np.array(X)"
   ]
  },
  {
   "cell_type": "code",
   "execution_count": 111,
   "metadata": {},
   "outputs": [],
   "source": [
    "from keras.layers import InputLayer\n",
    "import tensorflow as tf\n",
    "\n",
    "def pre_loss(inputs_to_use):\n",
    "    def loss_function_for_style_transfer(y_true, y_pred):\n",
    "\n",
    "\n",
    "        #relu1_2 = Model(inputs=[vgg.get_layer(index=0).input], outputs=[vgg.get_layer(index=2).output])\n",
    "        #relu2_2 = Model(inputs=[vgg.get_layer(index=0).input], outputs=[vgg.get_layer(index=5).output])\n",
    "        #relu3_3 = Model(inputs=[vgg.get_layer(index=0).input], outputs=[vgg.get_layer(index=9).output])\n",
    "        #relu4_3 = Model(inputs=[vgg.get_layer(index=0).input], outputs=[vgg.get_layer(index=13).output])\n",
    "        inputs1 = Input(tensor=y_pred)\n",
    "        model_loss = inputs1\n",
    "        for i in range (1,14):\n",
    "            model_loss = vgg.layers[i](model_loss)\n",
    "\n",
    "        model_loss_final = Model(inputs=[inputs1], outputs=[model_loss])\n",
    "        \n",
    "    \n",
    "        loss_net_relu1_2 = model_loss_final.get_layer(index=2).get_output_at(1)\n",
    "        loss_net_relu2_2 = model_loss_final.get_layer(index=5).get_output_at(1)\n",
    "        loss_net_relu3_3 = model_loss_final.get_layer(index=9).get_output_at(1)\n",
    "        loss_net_relu4_3 = model_loss_final.get_layer(index=13).get_output_at(1)\n",
    "        \n",
    "        model_feature = inputs_to_use\n",
    "        for i in range (1,10):\n",
    "            model_feature = vgg.layers[i](model_feature)\n",
    "\n",
    "\n",
    "        loss_net_feature_relu3_3 = Model(inputs=[inputs_to_use], outputs=[model_feature]).output\n",
    "\n",
    "        gram1_style = K.variable(style_gram_1)\n",
    "        gram2_style = K.variable(style_gram_2)\n",
    "        gram3_style = K.variable(style_gram_3)\n",
    "        gram4_style = K.variable(style_gram_4)\n",
    "\n",
    "        gram_1 = gram_matrix(loss_net_relu1_2[0])\n",
    "        gram_2 = gram_matrix(loss_net_relu2_2[0])\n",
    "        gram_3 = gram_matrix(loss_net_relu3_3[0])\n",
    "        gram_4 = gram_matrix(loss_net_relu4_3[0])\n",
    "\n",
    "\n",
    "        style1_loss = tf.norm(gram1_style - gram_1, ord='fro', axis=[-2, -1])**2\n",
    "        style2_loss = tf.norm(gram2_style - gram_2, ord='fro', axis=[-2, -1])**2\n",
    "        style3_loss = tf.norm(gram3_style - gram_3, ord='fro', axis=[-2, -1])**2\n",
    "        style4_loss = tf.norm(gram4_style - gram_4, ord='fro', axis=[-2, -1])**2\n",
    "        \n",
    "        print(loss_net_feature_relu3_3.shape)\n",
    "        dims = loss_net_relu3_3.shape\n",
    "        print(dims)\n",
    "        \n",
    "        feature_loss = (tf.norm(loss_net_feature_relu3_3[0] - loss_net_relu3_3[0], ord=2)**2)/(128+128+128)\n",
    "\n",
    "        return feature_loss+style1_loss+style2_loss+style3_loss+style4_loss\n",
    "\n",
    "    return loss_function_for_style_transfer\n"
   ]
  },
  {
   "cell_type": "code",
   "execution_count": 112,
   "metadata": {},
   "outputs": [
    {
     "name": "stdout",
     "output_type": "stream",
     "text": [
      "(?, 64, 64, 256)\n",
      "(?, ?, ?, 256)\n"
     ]
    }
   ],
   "source": [
    "from keras.preprocessing.image import ImageDataGenerator\n",
    "\n",
    "model_style_transfer.compile('nadam', loss=[pre_loss(model_style_transfer.input)])\n",
    "\n",
    "#model_style_transfer.fit(X, X, batch_size=1, epochs=1000)"
   ]
  },
  {
   "cell_type": "code",
   "execution_count": 113,
   "metadata": {},
   "outputs": [],
   "source": [
    "train_datagen = ImageDataGenerator()"
   ]
  },
  {
   "cell_type": "code",
   "execution_count": 114,
   "metadata": {},
   "outputs": [
    {
     "name": "stdout",
     "output_type": "stream",
     "text": [
      "Found 123287 images belonging to 2 classes.\n"
     ]
    }
   ],
   "source": [
    "train_generator = train_datagen.flow_from_directory(\n",
    "        path,\n",
    "        target_size=(256, 256),\n",
    "        batch_size=1)\n"
   ]
  },
  {
   "cell_type": "code",
   "execution_count": 115,
   "metadata": {},
   "outputs": [],
   "source": [
    "from keras.callbacks import ModelCheckpoint, TensorBoard\n",
    "\n",
    "checkpointer = ModelCheckpoint(filepath='weights/weights.hdf5', verbose=1)\n",
    "tensorboard = TensorBoard(batch_size=1)\n"
   ]
  },
  {
   "cell_type": "code",
   "execution_count": null,
   "metadata": {},
   "outputs": [
    {
     "name": "stdout",
     "output_type": "stream",
     "text": [
      "Epoch 1/4\n",
      " 249/2000 [==>...........................] - ETA: 1:18 - loss: 15795605170.8916"
     ]
    }
   ],
   "source": [
    "model_style_transfer.fit_generator(\n",
    "        train_generator,\n",
    "        steps_per_epoch=2000,\n",
    "        epochs=4,\n",
    "        callbacks=[checkpointer] \n",
    "        )\n"
   ]
  },
  {
   "cell_type": "code",
   "execution_count": null,
   "metadata": {},
   "outputs": [],
   "source": [
    "im_test = cv2.imread(\"propic.jpg\")\n",
    "im_test = cv2.cvtColor(im_test, cv2.COLOR_BGR2RGB)\n",
    "im_test = cv2.resize(im_test, (256, 256))\n",
    "im_test_to_feed = np.reshape(im_test, [1, im_test.shape[0], im_test.shape[1], im_test.shape[2]])\n",
    "result = model_style_transfer.predict(np.array([im_test_to_feed])[0])\n",
    "result = np.reshape(result, [256, 256, 3])"
   ]
  },
  {
   "cell_type": "code",
   "execution_count": 96,
   "metadata": {},
   "outputs": [
    {
     "data": {
      "text/plain": [
       "<matplotlib.image.AxesImage at 0x2dbee894710>"
      ]
     },
     "execution_count": 96,
     "metadata": {},
     "output_type": "execute_result"
    },
    {
     "data": {
      "image/png": "[encoded data removed]",
      "text/plain": [
       "<matplotlib.figure.Figure at 0x2dbec8b4908>"
      ]
     },
     "metadata": {},
     "output_type": "display_data"
    }
   ],
   "source": [
    "plt.imshow(result)"
   ]
  },
  {
   "cell_type": "code",
   "execution_count": 45,
   "metadata": {},
   "outputs": [
    {
     "data": {
      "text/plain": [
       "<matplotlib.image.AxesImage at 0x2dbc8f0f198>"
      ]
     },
     "execution_count": 45,
     "metadata": {},
     "output_type": "execute_result"
    },
    {
     "data": {
      "image/png": "[encoded data removed]",
      "text/plain": [
       "<matplotlib.figure.Figure at 0x2dbc8e649b0>"
      ]
     },
     "metadata": {},
     "output_type": "display_data"
    }
   ],
   "source": [
    "im_test = cv2.imread(\"/datasets/coco-2014-train/COCO_train2014_000000000009.jpg\")\n",
    "im_test = cv2.cvtColor(im_test, cv2.COLOR_BGR2RGB)\n",
    "im_test = cv2.resize(im_test, (256, 256))\n",
    "im_test_to_feed = np.reshape(im_test, [1, im_test.shape[0], im_test.shape[1], im_test.shape[2]])\n",
    "result = model_style_transfer.predict(im_test_to_feed)\n",
    "result = np.reshape(result, [256, 256, 3])\n",
    "plt.imshow(result)"
   ]
  },
  {
   "cell_type": "code",
   "execution_count": 46,
   "metadata": {},
   "outputs": [
    {
     "data": {
      "text/plain": [
       "(256, 256, 3)"
      ]
     },
     "execution_count": 46,
     "metadata": {},
     "output_type": "execute_result"
    }
   ],
   "source": [
    "im_test.shape"
   ]
  },
  {
   "cell_type": "code",
   "execution_count": null,
   "metadata": {},
   "outputs": [],
   "source": [
    "model_style_transfer.load_weights('weights/weights.hdf5')"
   ]
  },
  {
   "cell_type": "code",
   "execution_count": null,
   "metadata": {},
   "outputs": [],
   "source": []
  }
 ],
 "metadata": {
  "kernelspec": {
   "display_name": "Python 3",
   "language": "python",
   "name": "python3"
  },
  "language_info": {
   "codemirror_mode": {
    "name": "ipython",
    "version": 3
   },
   "file_extension": ".py",
   "mimetype": "text/x-python",
   "name": "python",
   "nbconvert_exporter": "python",
   "pygments_lexer": "ipython3",
   "version": "3.6.2"
  }
 },
 "nbformat": 4,
 "nbformat_minor": 2
}
