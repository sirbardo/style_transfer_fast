{
 "cells": [
  {
   "cell_type": "code",
   "execution_count": 1,
   "metadata": {},
   "outputs": [
    {
     "name": "stderr",
     "output_type": "stream",
     "text": [
      "Using TensorFlow backend.\n"
     ]
    }
   ],
   "source": [
    "import keras\n",
    "import numpy as np\n",
    "from keras import activations"
   ]
  },
  {
   "cell_type": "code",
   "execution_count": 2,
   "metadata": {},
   "outputs": [],
   "source": [
    "from keras import layers\n",
    "\n",
    "\n",
    "def residual_block(y, nb_channels, _strides=(1, 1), _project_shortcut=False):\n",
    "    shortcut = y\n",
    "\n",
    "    # down-sampling is performed with a stride of 2\n",
    "    y = layers.Conv2D(nb_channels, kernel_size=(3, 3), strides=_strides, padding='same')(y)\n",
    "    y = layers.BatchNormalization()(y)\n",
    "    y = layers.LeakyReLU()(y)\n",
    "\n",
    "    y = layers.Conv2D(nb_channels, kernel_size=(3, 3), strides=(1, 1), padding='same')(y)\n",
    "    y = layers.BatchNormalization()(y)\n",
    "\n",
    "    # identity shortcuts used directly when the input and output are of the same dimensions\n",
    "    if _project_shortcut or _strides != (1, 1):\n",
    "        # when the dimensions increase projection shortcut is used to match dimensions (done by 1×1 convolutions)\n",
    "        # when the shortcuts go across feature maps of two sizes, they are performed with a stride of 2\n",
    "        shortcut = layers.Conv2D(nb_channels, kernel_size=(1, 1), strides=_strides, padding='same')(shortcut)\n",
    "        shortcut = layers.BatchNormalization()(shortcut)\n",
    "\n",
    "    y = layers.add([shortcut, y])\n",
    "\n",
    "    return y\n"
   ]
  },
  {
   "cell_type": "code",
   "execution_count": 3,
   "metadata": {},
   "outputs": [],
   "source": [
    "from keras.models import Input, Model\n",
    "from keras.layers import Conv2D\n",
    "from keras.layers import Deconv2D"
   ]
  },
  {
   "cell_type": "code",
   "execution_count": 4,
   "metadata": {},
   "outputs": [],
   "source": [
    "import tensorflow as tf\n",
    "from keras.engine.topology import Layer\n",
    "from keras.engine import InputSpec\n",
    "\n",
    "class ReflectionPadding2D(Layer):\n",
    "    def __init__(self, padding=(1, 1), **kwargs):\n",
    "        self.padding = tuple(padding)\n",
    "        self.input_spec = [InputSpec(ndim=4)]\n",
    "        super(ReflectionPadding2D, self).__init__(**kwargs)\n",
    "\n",
    "    def get_output_shape_for(self, s):\n",
    "        \"\"\" If you are using \"channels_last\" configuration\"\"\"\n",
    "        return (s[0], s[1] + 2 * self.padding[0], s[2] + 2 * self.padding[1], s[3])\n",
    "\n",
    "    def call(self, x, mask=None):\n",
    "        w_pad,h_pad = self.padding\n",
    "        return tf.pad(x, [[0,0], [h_pad,h_pad], [w_pad,w_pad], [0,0] ], 'REFLECT')\n",
    "\n",
    "# a little Demo\n",
    "#inputs = Input((img_rows, img_cols, num_channels))\n",
    "#padded_inputs = ReflectionPadding2D(padding=(1,1))(inputs)\n",
    "#conv1 = Conv2D(32, 3, padding='valid', kernel_initializer='he_uniform',\n",
    "#               data_format='channels_last')(padded_inputs)\n"
   ]
  },
  {
   "cell_type": "code",
   "execution_count": 5,
   "metadata": {},
   "outputs": [
    {
     "name": "stderr",
     "output_type": "stream",
     "text": [
      "c:\\program files\\python36\\lib\\site-packages\\keras\\engine\\topology.py:636: UserWarning: Class `__main__.ReflectionPadding2D` defines `get_output_shape_for` but does not override `compute_output_shape`. If this is a Keras 1 layer, please implement `compute_output_shape` to support Keras 2.\n",
      "  output_shape = self.compute_output_shape(input_shape)\n"
     ]
    }
   ],
   "source": [
    "\"\"\"\n",
    "In this cell I define, functionally, the \"image transformation\" network from jc johnson's and li fei fei paper.\n",
    "\"\"\"\n",
    "\n",
    "inputs = Input(shape=[256, 256, 3])\n",
    "o = ReflectionPadding2D(padding=(40,40))(inputs) #TODO: Check if the reflection padding is done as the paper\n",
    "o = Conv2D(32, (9, 9), strides=(1,1))(o)\n",
    "o = Conv2D(64, (3, 3), strides=(2,2))(o)\n",
    "o = Conv2D(128, (3, 3), strides=(2,2))(o)\n",
    "o = residual_block(o, 128)\n",
    "o = residual_block(o, 128)\n",
    "o = residual_block(o, 128)\n",
    "o = residual_block(o, 128) #TODO: check if the residual blocks are the same as the paper\n",
    "o = residual_block(o, 128)\n",
    "o = Deconv2D(64, (3, 3), strides=2)(o)\n",
    "o = Deconv2D(32, (3, 3), strides=2)(o) #TODO: check if the output of this layer is the same as the fractional stride conv\n",
    "o = Conv2D(3, (9, 9), strides=1, activation='tanh')(o)\n",
    "\n",
    "model_style_transfer = Model(inputs=inputs, outputs=o)\n"
   ]
  },
  {
   "cell_type": "code",
   "execution_count": 6,
   "metadata": {},
   "outputs": [],
   "source": [
    "from keras.applications import VGG16"
   ]
  },
  {
   "cell_type": "code",
   "execution_count": 7,
   "metadata": {},
   "outputs": [],
   "source": [
    "vgg = VGG16(include_top=False)"
   ]
  },
  {
   "cell_type": "code",
   "execution_count": 97,
   "metadata": {},
   "outputs": [
    {
     "data": {
      "text/plain": [
       "[<keras.engine.topology.InputLayer at 0x1c709769828>,\n",
       " <keras.layers.convolutional.Conv2D at 0x1c709769b00>,\n",
       " <keras.layers.convolutional.Conv2D at 0x1c7097766a0>,\n",
       " <keras.layers.pooling.MaxPooling2D at 0x1c709769cc0>,\n",
       " <keras.layers.convolutional.Conv2D at 0x1c70988dfd0>,\n",
       " <keras.layers.convolutional.Conv2D at 0x1c70988d588>,\n",
       " <keras.layers.pooling.MaxPooling2D at 0x1c762ada400>,\n",
       " <keras.layers.convolutional.Conv2D at 0x1c762b0e6a0>,\n",
       " <keras.layers.convolutional.Conv2D at 0x1c762b0ed30>,\n",
       " <keras.layers.convolutional.Conv2D at 0x1c762afb8d0>,\n",
       " <keras.layers.pooling.MaxPooling2D at 0x1c981a3d4a8>,\n",
       " <keras.layers.convolutional.Conv2D at 0x1c981a6b828>,\n",
       " <keras.layers.convolutional.Conv2D at 0x1c981a6be10>,\n",
       " <keras.layers.convolutional.Conv2D at 0x1c981a96518>,\n",
       " <keras.layers.pooling.MaxPooling2D at 0x1c981aad198>,\n",
       " <keras.layers.convolutional.Conv2D at 0x1c981ada668>,\n",
       " <keras.layers.convolutional.Conv2D at 0x1c981ada908>,\n",
       " <keras.layers.convolutional.Conv2D at 0x1c981b03780>,\n",
       " <keras.layers.pooling.MaxPooling2D at 0x1c981b30518>]"
      ]
     },
     "execution_count": 97,
     "metadata": {},
     "output_type": "execute_result"
    }
   ],
   "source": [
    "vgg.layers # let's see where to get our outputs for style"
   ]
  },
  {
   "cell_type": "code",
   "execution_count": 69,
   "metadata": {},
   "outputs": [],
   "source": [
    "relu1_2 = Model(inputs=[vgg.get_layer(index=0).input], outputs=[vgg.get_layer(index=2).output])\n",
    "relu2_2 = Model(inputs=[vgg.get_layer(index=0).input], outputs=[vgg.get_layer(index=5).output])\n",
    "relu3_3 = Model(inputs=[vgg.get_layer(index=0).input], outputs=[vgg.get_layer(index=9).output])\n",
    "relu4_3 = Model(inputs=[vgg.get_layer(index=0).input], outputs=[vgg.get_layer(index=13).output])"
   ]
  },
  {
   "cell_type": "code",
   "execution_count": 70,
   "metadata": {},
   "outputs": [],
   "source": [
    "import cv2"
   ]
  },
  {
   "cell_type": "code",
   "execution_count": 71,
   "metadata": {},
   "outputs": [],
   "source": [
    "im = cv2.imread(\"fortnite/34.png\")"
   ]
  },
  {
   "cell_type": "code",
   "execution_count": 95,
   "metadata": {},
   "outputs": [
    {
     "data": {
      "image/png": "[encoded data removed]",
      "text/plain": [
       "<matplotlib.figure.Figure at 0x1c9d3c695f8>"
      ]
     },
     "metadata": {},
     "output_type": "display_data"
    }
   ],
   "source": [
    "provaoutput = relu4_3.predict(np.array([im]))[0,:,:,83]\n",
    "\n",
    "import matplotlib.image as mpimg\n",
    "import matplotlib.pyplot as plt\n",
    "%matplotlib inline\n",
    "plt.imshow(provaoutput, cmap='gray')\n",
    "plt.show()"
   ]
  },
  {
   "cell_type": "code",
   "execution_count": 68,
   "metadata": {},
   "outputs": [],
   "source": [
    "import tensorflow as tf\n",
    "\n",
    "def custom_objective(y_true, y_pred):\n",
    "    '''Just another crossentropy'''\n",
    "    y_true = tf.Variable(trainable=False, initial_value=tf.float32(0.0))\n",
    "    distance = y_pred - y_true\n",
    "    return distance\n",
    "\n",
    "def gram_matrix(x):\n",
    "    if K.image_dim_ordering() == 'th':\n",
    "        features = K.batch_flatten(x)\n",
    "    else:\n",
    "        features = K.batch_flatten(K.permute_dimensions(x, (2, 0, 1)))\n",
    "\n",
    "    shape = K.shape(x)\n",
    "    \n",
    "    C, W, H = (shape[0],shape[1], shape[2])\n",
    "    \n",
    "    cf = K.reshape(features ,(C,-1))\n",
    "    gram = K.dot(cf, K.transpose(cf)) /  K.cast(C*W*H,dtype='float32')\n",
    "\n",
    "    return gram\n",
    "\n",
    "\n"
   ]
  },
  {
   "cell_type": "code",
   "execution_count": 47,
   "metadata": {},
   "outputs": [],
   "source": [
    "from keras import backend as K\n",
    "prova.add_loss(custom_objective)\n",
    "\n",
    "def dummy_loss(y_true, y_pred ):\n",
    "    return K.variable(0.0)"
   ]
  },
  {
   "cell_type": "code",
   "execution_count": 96,
   "metadata": {},
   "outputs": [],
   "source": [
    "style_gram_1 = gram_matrix(relu1_2.predict(np.array([im]))[0])\n",
    "style_gram_2 = gram_matrix(relu2_2.predict(np.array([im]))[0])\n",
    "style_gram_3 = gram_matrix(relu3_3.predict(np.array([im]))[0])\n",
    "style_gram_4 = gram_matrix(relu4_3.predict(np.array([im]))[0])"
   ]
  },
  {
   "cell_type": "code",
   "execution_count": null,
   "metadata": {},
   "outputs": [],
   "source": []
  }
 ],
 "metadata": {
  "kernelspec": {
   "display_name": "Python 3",
   "language": "python",
   "name": "python3"
  },
  "language_info": {
   "codemirror_mode": {
    "name": "ipython",
    "version": 3
   },
   "file_extension": ".py",
   "mimetype": "text/x-python",
   "name": "python",
   "nbconvert_exporter": "python",
   "pygments_lexer": "ipython3",
   "version": "3.6.2"
  }
 },
 "nbformat": 4,
 "nbformat_minor": 2
}
